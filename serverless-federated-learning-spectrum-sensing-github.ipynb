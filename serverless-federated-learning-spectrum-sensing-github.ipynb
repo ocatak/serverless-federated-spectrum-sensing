{
 "cells": [
  {
   "cell_type": "code",
   "execution_count": 1,
   "id": "cd149f7d",
   "metadata": {},
   "outputs": [],
   "source": [
    "import os\n",
    "import numpy as np\n",
    "import tensorflow as tf\n",
    "from sklearn.model_selection import train_test_split\n",
    "from tensorflow.keras import layers, models\n",
    "from tensorflow.keras.callbacks import EarlyStopping, ModelCheckpoint\n",
    "import matplotlib.pyplot as plt\n",
    "from tqdm.keras import TqdmCallback\n",
    "from collections import Counter\n",
    "from matplotlib.colors import ListedColormap\n",
    "import scipy.io\n",
    "import pandas as pd\n",
    "from tqdm.notebook import tqdm\n",
    "from tqdm.keras import TqdmCallback\n",
    "\n",
    "from collections import defaultdict,Counter\n",
    "\n",
    "from lapixdl.evaluation.evaluate import evaluate_segmentation\n",
    "\n",
    "import json\n",
    "import pickle\n",
    "from tqdm.keras import TqdmCallback\n",
    "\n",
    "np.random.seed(10)\n",
    "\n",
    "import seaborn as sns"
   ]
  },
  {
   "cell_type": "code",
   "execution_count": 2,
   "id": "bc006159",
   "metadata": {},
   "outputs": [],
   "source": [
    "# Constants\n",
    "PROJECT_FOLDER = './'\n",
    "DATASET_ZIP_URL = 'https://github.com/ocatak/RadarSpectrumSensing-FL-AML/raw/main/converted_dataset.zip'\n",
    "DATASET_ZIP_FILE = 'converted_dataset.zip'\n",
    "DATASET_DIR = './data'\n",
    "CLASSES = [\"Noise\", \"LTE\", \"NR\", \"Radar\"]\n",
    "NUM_CLASSES = len(CLASSES)\n",
    "INPUT_SHAPE = (256, 256, 3)\n",
    "NUMBER_OF_CLIENTS = 5\n",
    "NUMBER_OF_EPOCHS = 3\n",
    "NUM_ROUNDS = 10\n",
    "\n",
    "PRINT_SAMPLE_PRED = False\n",
    "cmp = ListedColormap(['#00FFFF', '#8080FF', '#FF00FF', '#0F00F8'])"
   ]
  },
  {
   "cell_type": "code",
   "execution_count": 3,
   "id": "f5ede886",
   "metadata": {},
   "outputs": [
    {
     "name": "stdout",
     "output_type": "stream",
     "text": [
      "Dataset file converted_dataset.zip already exists.\n",
      "Dataset directory ./data already exists.\n"
     ]
    }
   ],
   "source": [
    "# Download dataset using wget and unzip\n",
    "def download_and_unzip_dataset(zip_url, zip_file, target_dir):\n",
    "    if not os.path.exists(zip_file):\n",
    "        print(f'Downloading dataset from {zip_url}...')\n",
    "        os.system(f'wget -O {zip_file} {zip_url} -q')\n",
    "    else:\n",
    "        print(f'Dataset file {zip_file} already exists.')\n",
    "    \n",
    "    if not os.path.exists(target_dir):\n",
    "        print(f'Unzipping dataset file: {zip_file}')\n",
    "        os.system(f'unzip {zip_file} -d {target_dir}')\n",
    "    else:\n",
    "        print(f'Dataset directory {target_dir} already exists.')\n",
    "\n",
    "# Call the function to download and unzip the dataset\n",
    "download_and_unzip_dataset(DATASET_ZIP_URL, DATASET_ZIP_FILE, DATASET_DIR)"
   ]
  },
  {
   "cell_type": "code",
   "execution_count": 4,
   "id": "439e5ded",
   "metadata": {},
   "outputs": [],
   "source": [
    "# Dataset loading and preprocessing\n",
    "def convert_to_int(filename):\n",
    "    conv_dict = {'Noise': 0, 'LTE': 1, 'NR': 2, 'Radar': 3}\n",
    "    with open(filename, 'r') as f:\n",
    "        data = f.read()\n",
    "    for key, value in conv_dict.items():\n",
    "        data = data.replace(key, str(value))\n",
    "    with open('tmp.txt', 'w') as f:\n",
    "        f.write(data)\n",
    "    return pd.read_csv('tmp.txt', sep=',', header=None).values"
   ]
  },
  {
   "cell_type": "code",
   "execution_count": 5,
   "id": "fc6b2248",
   "metadata": {},
   "outputs": [],
   "source": [
    "def load_dataset(dataset_dir, num_files=500):\n",
    "    X, Y = [], []\n",
    "    for idx in range(1, num_files):\n",
    "        spectrogram = scipy.io.loadmat(f'{dataset_dir}/rcvdSpectrogram_{idx}.mat')['rcvdSpectrogram']\n",
    "        label = convert_to_int(f'{dataset_dir}/trueLabels_{idx}.csv')\n",
    "        X.append(spectrogram)\n",
    "        Y.append(label)\n",
    "    return np.array(X), np.array(Y)"
   ]
  },
  {
   "cell_type": "code",
   "execution_count": 6,
   "id": "da5ae865",
   "metadata": {},
   "outputs": [],
   "source": [
    "# Federated Learning\n",
    "def split_data_for_clients(X, Y, num_clients=5):\n",
    "    client_data = []\n",
    "    X_split = np.array_split(X, num_clients)\n",
    "    Y_split = np.array_split(Y, num_clients)\n",
    "    for i in range(num_clients):\n",
    "        client_data.append((X_split[i], Y_split[i]))\n",
    "    return client_data"
   ]
  },
  {
   "cell_type": "code",
   "execution_count": 7,
   "id": "4d4dc5e8",
   "metadata": {},
   "outputs": [],
   "source": [
    "# Load dataset\n",
    "X, Y = load_dataset('data/data/convertedFolder')\n",
    "\n",
    "# Preprocess and split data\n",
    "x_train, x_val, y_train, y_val = train_test_split(X, Y, test_size=0.1)\n",
    "x_train, x_val = np.array(x_train), np.array(x_val)\n",
    "y_train, y_val = np.array(y_train), np.array(y_val)\n",
    "y_train_onehot = tf.one_hot(y_train.astype(np.int32), depth=NUM_CLASSES)\n",
    "y_val_onehot = tf.one_hot(y_val.astype(np.int32), depth=NUM_CLASSES)\n",
    "\n",
    "client_data = split_data_for_clients(x_train, y_train, NUMBER_OF_CLIENTS)"
   ]
  },
  {
   "cell_type": "code",
   "execution_count": 8,
   "id": "8397ac95",
   "metadata": {},
   "outputs": [],
   "source": [
    "import numpy as np\n",
    "from collections import defaultdict\n",
    "\n",
    "# Non-IID data split function for image segmentation (strongly non-IID)\n",
    "def split_data_strongly_non_iid(X, Y, num_clients=5, num_shards_per_client=2, num_classes=4):\n",
    "    \"\"\"Create strongly non-IID distribution of data for clients, where each image has pixel-wise labels.\n",
    "    \n",
    "    Args:\n",
    "        X (np.ndarray): Input data (images).\n",
    "        Y (np.ndarray): Labels (pixel-wise class labels for each image).\n",
    "        num_clients (int): Number of clients.\n",
    "        num_shards_per_client (int): Number of shards per client.\n",
    "        num_classes (int): Number of classes.\n",
    "    \n",
    "    Returns:\n",
    "        list of tuples: A list where each element is (X_client, Y_client) for each client.\n",
    "    \"\"\"\n",
    "    client_data = []\n",
    "    num_shards = num_clients * num_shards_per_client\n",
    "\n",
    "    # Group the data by the most common class in each image\n",
    "    class_indices = defaultdict(list)\n",
    "    for i in range(X.shape[0]):\n",
    "        # Find the most common class in the image\n",
    "        most_common_class = np.argmax(np.bincount(Y[i].flatten()))\n",
    "        class_indices[most_common_class].append(i)\n",
    "    \n",
    "    # Shuffle the indices within each class\n",
    "    for class_idx in class_indices:\n",
    "        np.random.shuffle(class_indices[class_idx])\n",
    "    \n",
    "    # Create strongly non-IID shards: assign different classes predominantly to different clients\n",
    "    shards_per_class = {}\n",
    "    for class_idx in range(num_classes):\n",
    "        class_data = class_indices[class_idx]\n",
    "        if len(class_data) < num_shards_per_client:\n",
    "            # If there are not enough data points, create shards with smaller sizes\n",
    "            shards_per_class[class_idx] = [class_data]\n",
    "        else:\n",
    "            shards_per_class[class_idx] = np.array_split(class_data, num_shards_per_client)\n",
    "    \n",
    "    for client_idx in range(num_clients):\n",
    "        client_shards = []\n",
    "        # For each client, assign most of the data from one class and a little from others\n",
    "        main_class = client_idx % num_classes  # Primary class for this client\n",
    "        client_shards.extend(shards_per_class[main_class][:num_shards_per_client])\n",
    "        \n",
    "        # Add some diversity by assigning a few samples from other classes (just a little)\n",
    "        for other_class in range(num_classes):\n",
    "            if other_class != main_class and len(shards_per_class[other_class]) > 0:\n",
    "                # Take a small amount of data from other classes\n",
    "                shard_size = len(shards_per_class[other_class][0]) // 5  # Small portion\n",
    "                if shard_size > 0:  # Ensure the shard has data\n",
    "                    client_shards.append(shards_per_class[other_class][0][:shard_size])\n",
    "\n",
    "        # Concatenate all the shards for this client\n",
    "        if len(client_shards) > 0:\n",
    "            client_indices = np.concatenate(client_shards).astype(int)  # Ensure indices are integers\n",
    "            X_client = X[client_indices]\n",
    "            Y_client = Y[client_indices]\n",
    "            client_data.append((X_client, Y_client))\n",
    "    \n",
    "    return client_data\n",
    "\n",
    "# Example usage:\n",
    "client_data = split_data_strongly_non_iid(x_train, y_train, num_clients=5, num_shards_per_client=2, num_classes=NUM_CLASSES)\n"
   ]
  },
  {
   "cell_type": "code",
   "execution_count": 9,
   "id": "50ce0ed0",
   "metadata": {},
   "outputs": [
    {
     "name": "stdout",
     "output_type": "stream",
     "text": [
      "             Noise      LTE       NR   Radar\n",
      "Client_0  13718969  2298034  4555669  398848\n",
      "Client_1   1576704   213124  1038972   54784\n",
      "Client_2   3304279  1200336  6617049  216064\n",
      "Client_3   1576704   213124  1038972   54784\n",
      "Client_4  13718969  2298034  4555669  398848\n"
     ]
    },
    {
     "data": {
      "image/png": "[encoded data removed]",
      "text/plain": [
       "<Figure size 1000x500 with 1 Axes>"
      ]
     },
     "metadata": {},
     "output_type": "display_data"
    },
    {
     "name": "stdout",
     "output_type": "stream",
     "text": [
      "             Noise       LTE        NR     Radar\n",
      "Client_0  0.654171  0.109579  0.217231  0.019019\n",
      "Client_1  0.546786  0.073909  0.360306  0.018999\n",
      "Client_2  0.291441  0.105871  0.583631  0.019057\n",
      "Client_3  0.546786  0.073909  0.360306  0.018999\n",
      "Client_4  0.654171  0.109579  0.217231  0.019019\n"
     ]
    },
    {
     "data": {
      "image/png": "[encoded data removed]",
      "text/plain": [
       "<Figure size 1000x500 with 1 Axes>"
      ]
     },
     "metadata": {},
     "output_type": "display_data"
    }
   ],
   "source": [
    "from collections import Counter\n",
    "import numpy as np\n",
    "import pandas as pd\n",
    "import matplotlib.pyplot as plt\n",
    "\n",
    "# Function to count the number of samples for each class per client (pixel-wise for segmentation)\n",
    "def check_noniid_distribution(client_data, num_clients, num_classes):\n",
    "    client_class_counts = []\n",
    "\n",
    "    for i in range(num_clients):\n",
    "        _, Y_client = client_data[i]\n",
    "        \n",
    "        # Flatten Y_client (which contains pixel-wise labels) to 1D for counting\n",
    "        Y_client_flat = Y_client.flatten()\n",
    "        \n",
    "        # Count the occurrences of each class\n",
    "        class_counts = Counter(Y_client_flat)\n",
    "\n",
    "        # Ensure that the count is reported for all classes, even if a class has 0 samples\n",
    "        class_count_list = [class_counts.get(c, 0) for c in range(num_classes)]\n",
    "        client_class_counts.append(class_count_list)\n",
    "    \n",
    "    # Convert to a DataFrame for easier visualization\n",
    "    df = pd.DataFrame(client_class_counts, columns=CLASSES)\n",
    "    df.index = [f'Client_{i}' for i in range(num_clients)]\n",
    "    \n",
    "    return df\n",
    "\n",
    "# Function to visualize the class distribution\n",
    "def plot_class_distribution(df):\n",
    "    # Melt the DataFrame for seaborn compatibility (long-form)\n",
    "    df_long = df.reset_index().melt(id_vars=\"index\", var_name=\"Class\", value_name=\"Ratio\")\n",
    "    df_long.rename(columns={'index': 'Client'}, inplace=True)\n",
    "\n",
    "    # Set color palette\n",
    "    palette = sns.color_palette(\"Paired\", len(CLASSES))\n",
    "\n",
    "    # Plot\n",
    "    plt.figure(figsize=(10, 5))\n",
    "    sns.barplot(data=df_long, x=\"Client\", y=\"Ratio\", hue=\"Class\", palette=palette)\n",
    "    \n",
    "    # Customizing plot aesthetics\n",
    "    plt.xlabel(\"Clients\", fontsize=16, weight='bold')\n",
    "    plt.ylabel(\"Ratio of Samples\", fontsize=16, weight='bold')\n",
    "    plt.legend(title=\"Classes\", title_fontsize='16', fontsize=12, loc='upper center',\n",
    "               bbox_to_anchor=(0.5, 1.15), ncol=4)  # Set custom labels here\n",
    "    plt.xticks(rotation=45, fontsize=14)\n",
    "    plt.yticks(fontsize=14)\n",
    "    \n",
    "    # Remove top and right spines\n",
    "    sns.despine()\n",
    "    \n",
    "    # Show plot\n",
    "    plt.tight_layout()\n",
    "    \n",
    "    plt.savefig('class_distribution.pdf', bbox_inches='tight')\n",
    "    plt.show()\n",
    "\n",
    "# Function to convert class counts to ratios (proportions)\n",
    "def convert_counts_to_ratios(df):\n",
    "    \"\"\"Convert class counts to ratios for each client.\"\"\"\n",
    "    # Normalize each row so that the sum of the classes for each client equals 1\n",
    "    df_ratios = df.div(df.sum(axis=1), axis=0)\n",
    "    return df_ratios\n",
    "\n",
    "# Check and visualize the non-IID distribution\n",
    "distribution_df = check_noniid_distribution(client_data, num_clients=5, num_classes=NUM_CLASSES)\n",
    "print(distribution_df)\n",
    "plot_class_distribution(distribution_df)\n",
    "\n",
    "# Convert counts to ratios\n",
    "distribution_ratios_df = convert_counts_to_ratios(distribution_df)\n",
    "print(distribution_ratios_df)\n",
    "\n",
    "# Optionally, plot the ratios as well\n",
    "plot_class_distribution(distribution_ratios_df)"
   ]
  },
  {
   "cell_type": "code",
   "execution_count": 10,
   "id": "ec25d73b",
   "metadata": {},
   "outputs": [
    {
     "name": "stdout",
     "output_type": "stream",
     "text": [
      "\\begin{tabular}{lrrrrrrrrr}\n",
      "\\toprule\n",
      " & Total Spectrograms & Noise # of records & Noise Ratio & LTE # of records & LTE Ratio & NR # of records & NR Ratio & Radar # of records & Radar Ratio \\\\\n",
      "\\midrule\n",
      "Client_0 & 320.000000 & 13718969.000000 & 0.654171 & 2298034.000000 & 0.109579 & 4555669.000000 & 0.217231 & 398848.000000 & 0.019019 \\\\\n",
      "Client_1 & 44.000000 & 1576704.000000 & 0.546786 & 213124.000000 & 0.073909 & 1038972.000000 & 0.360306 & 54784.000000 & 0.018999 \\\\\n",
      "Client_2 & 173.000000 & 3304279.000000 & 0.291441 & 1200336.000000 & 0.105871 & 6617049.000000 & 0.583631 & 216064.000000 & 0.019057 \\\\\n",
      "Client_3 & 44.000000 & 1576704.000000 & 0.546786 & 213124.000000 & 0.073909 & 1038972.000000 & 0.360306 & 54784.000000 & 0.018999 \\\\\n",
      "Client_4 & 320.000000 & 13718969.000000 & 0.654171 & 2298034.000000 & 0.109579 & 4555669.000000 & 0.217231 & 398848.000000 & 0.019019 \\\\\n",
      "\\bottomrule\n",
      "\\end{tabular}\n",
      "\n"
     ]
    }
   ],
   "source": [
    "# Generate counts and ratios dataframes\n",
    "distribution_df = check_noniid_distribution(client_data, num_clients=5, num_classes=4)\n",
    "distribution_ratios_df = convert_counts_to_ratios(distribution_df)\n",
    "\n",
    "# Combine counts and ratios into a single table\n",
    "combined_df = pd.DataFrame()\n",
    "\n",
    "for client in distribution_df.index:\n",
    "    # Calculate the total number of spectrograms per client\n",
    "    total_spectrograms = int(distribution_df.loc[client].sum()/65536)\n",
    "    combined_df.loc[client, 'Total Spectrograms'] = total_spectrograms\n",
    "    \n",
    "    for class_label in distribution_df.columns:\n",
    "        combined_df.loc[client, f'{class_label} # of records'] = distribution_df.loc[client, class_label]\n",
    "        combined_df.loc[client, f'{class_label} Ratio'] = distribution_ratios_df.loc[client, class_label]\n",
    "\n",
    "# Print LaTeX code\n",
    "print(combined_df.to_latex(index=True, multirow=True))"
   ]
  },
  {
   "cell_type": "code",
   "execution_count": 11,
   "id": "71668bcd",
   "metadata": {},
   "outputs": [
    {
     "name": "stdout",
     "output_type": "stream",
     "text": [
      "noise_power:0.0\n",
      "noise_pixels:(13718969,)\n",
      "Y_client_flat:(20971520,)\n",
      "noise_power:0.0\n",
      "noise_pixels:(1576704,)\n",
      "Y_client_flat:(2883584,)\n",
      "noise_power:0.0\n",
      "noise_pixels:(3304279,)\n",
      "Y_client_flat:(11337728,)\n",
      "noise_power:0.0\n",
      "noise_pixels:(1576704,)\n",
      "Y_client_flat:(2883584,)\n",
      "noise_power:0.0\n",
      "noise_pixels:(13718969,)\n",
      "Y_client_flat:(20971520,)\n",
      "          LTE   NR  Radar  Average SNR (dB)\n",
      "Client_1  inf  inf    inf               inf\n",
      "Client_2  inf  inf    inf               inf\n",
      "Client_3  inf  inf    inf               inf\n",
      "Client_4  inf  inf    inf               inf\n",
      "Client_5  inf  inf    inf               inf\n",
      "\n",
      "LaTeX Table Code:\n",
      "\\begin{table}\n",
      "\\caption{SNR Values per Client and Class}\n",
      "\\label{tab:snr_values}\n",
      "\\begin{tabular}{lrrrr}\n",
      "\\toprule\n",
      " & LTE & NR & Radar & Average SNR (dB) \\\\\n",
      "\\midrule\n",
      "Client_1 & inf & inf & inf & inf \\\\\n",
      "Client_2 & inf & inf & inf & inf \\\\\n",
      "Client_3 & inf & inf & inf & inf \\\\\n",
      "Client_4 & inf & inf & inf & inf \\\\\n",
      "Client_5 & inf & inf & inf & inf \\\\\n",
      "\\bottomrule\n",
      "\\end{tabular}\n",
      "\\end{table}\n",
      "\n"
     ]
    }
   ],
   "source": [
    "NUM_CLASSES = len(CLASSES)\n",
    "\n",
    "# Function to calculate SNR for each client and class\n",
    "def calculate_snr_from_labels(client_data, num_clients, num_classes):\n",
    "    client_snr_values = []\n",
    "\n",
    "    for i in range(num_clients):\n",
    "        _, Y_client = client_data[i]\n",
    "        \n",
    "        # Flatten Y_client to 1D\n",
    "        Y_client_flat = Y_client.flatten()\n",
    "        \n",
    "        # Calculate noise power (mean pixel intensity of class 0)\n",
    "        noise_pixels = Y_client_flat[Y_client_flat == 0]\n",
    "        noise_power = np.mean(noise_pixels) if len(noise_pixels) > 0 else np.nan\n",
    "        \n",
    "        print(f\"noise_power:{noise_power}\")\n",
    "        print(f\"noise_pixels:{noise_pixels.shape}\")\n",
    "        print(f\"Y_client_flat:{Y_client_flat.shape}\")\n",
    "        \n",
    "        snr_values = {}\n",
    "        for class_idx in range(1, num_classes):  # Start from 1 to exclude noise\n",
    "            # Pixels for the current signal class\n",
    "            signal_pixels = Y_client_flat[Y_client_flat == class_idx]\n",
    "            \n",
    "            if len(signal_pixels) > 0:\n",
    "                # Signal power is the mean of the current class pixels\n",
    "                signal_power = np.mean(signal_pixels)\n",
    "                \n",
    "                # Calculate SNR in dB\n",
    "                snr = 10 * np.log10(signal_power / noise_power) if noise_power > 0 else np.inf\n",
    "                snr = 10 * signal_power / noise_power if noise_power > 0 else np.inf\n",
    "                snr_values[CLASSES[class_idx]] = snr\n",
    "            else:\n",
    "                snr_values[CLASSES[class_idx]] = np.nan  # No data for this class\n",
    "\n",
    "        client_snr_values.append(snr_values)\n",
    "\n",
    "    # Convert to DataFrame for easier visualization\n",
    "    df_snr = pd.DataFrame(client_snr_values, index=[f'Client_{i+1}' for i in range(num_clients)])\n",
    "    \n",
    "    # Add an average SNR column\n",
    "    df_snr['Average SNR (dB)'] = df_snr.mean(axis=1)\n",
    "    return df_snr\n",
    "\n",
    "# Assuming client_data is already loaded\n",
    "snr_df = calculate_snr_from_labels(client_data, num_clients=NUMBER_OF_CLIENTS, num_classes=NUM_CLASSES)\n",
    "print(snr_df)\n",
    "\n",
    "# Generate LaTeX code for the table\n",
    "latex_code = snr_df.to_latex(index=True, float_format=\"%.2f\", caption=\"SNR Values per Client and Class\", label=\"tab:snr_values\")\n",
    "print(\"\\nLaTeX Table Code:\")\n",
    "print(latex_code)\n"
   ]
  },
  {
   "cell_type": "code",
   "execution_count": 12,
   "id": "75639d8c",
   "metadata": {},
   "outputs": [
    {
     "name": "stdout",
     "output_type": "stream",
     "text": [
      "               LTE        NR      Radar  Average SNR (dB)\n",
      "Client_1 -7.759650 -4.787693 -15.365141         -9.304161\n",
      "Client_2 -8.691178 -1.811463 -14.590964         -8.364535\n",
      "Client_3 -4.397739  3.015876 -11.844943         -4.408935\n",
      "Client_4 -8.691178 -1.811463 -14.590964         -8.364535\n",
      "Client_5 -7.759650 -4.787693 -15.365141         -9.304161\n",
      "\n",
      "LaTeX Table Code:\n",
      "\\begin{table}\n",
      "\\caption{Relative SNR Values per Client and Class}\n",
      "\\label{tab:relative_snr_values}\n",
      "\\begin{tabular}{lrrrr}\n",
      "\\toprule\n",
      " & LTE & NR & Radar & Average SNR (dB) \\\\\n",
      "\\midrule\n",
      "Client_1 & -7.76 & -4.79 & -15.37 & -9.30 \\\\\n",
      "Client_2 & -8.69 & -1.81 & -14.59 & -8.36 \\\\\n",
      "Client_3 & -4.40 & 3.02 & -11.84 & -4.41 \\\\\n",
      "Client_4 & -8.69 & -1.81 & -14.59 & -8.36 \\\\\n",
      "Client_5 & -7.76 & -4.79 & -15.37 & -9.30 \\\\\n",
      "\\bottomrule\n",
      "\\end{tabular}\n",
      "\\end{table}\n",
      "\n"
     ]
    }
   ],
   "source": [
    "NUM_CLASSES = len(CLASSES)\n",
    "\n",
    "# Function to calculate relative SNR for each client and class\n",
    "def calculate_relative_snr(client_data, num_clients, num_classes):\n",
    "    client_snr_values = []\n",
    "\n",
    "    for i in range(num_clients):\n",
    "        _, Y_client = client_data[i]\n",
    "        \n",
    "        # Flatten Y_client to 1D\n",
    "        Y_client_flat = Y_client.flatten()\n",
    "        \n",
    "        # Count noise pixels\n",
    "        noise_count = np.sum(Y_client_flat == 0)\n",
    "        \n",
    "        snr_values = {}\n",
    "        for class_idx in range(1, num_classes):  # Start from 1 to exclude noise\n",
    "            # Count the pixels for the current signal class\n",
    "            signal_count = np.sum(Y_client_flat == class_idx)\n",
    "            \n",
    "            if noise_count > 0:\n",
    "                # Calculate relative SNR in dB using the ratio of signal to noise pixels\n",
    "                snr = 10 * np.log10(signal_count / noise_count) if signal_count > 0 else np.nan\n",
    "                snr_values[CLASSES[class_idx]] = snr\n",
    "            else:\n",
    "                snr_values[CLASSES[class_idx]] = np.nan  # Avoid division by zero if noise_count is zero\n",
    "\n",
    "        client_snr_values.append(snr_values)\n",
    "\n",
    "    # Convert to DataFrame for easier visualization\n",
    "    df_snr = pd.DataFrame(client_snr_values, index=[f'Client_{i+1}' for i in range(num_clients)])\n",
    "    \n",
    "    # Add an average SNR column\n",
    "    df_snr['Average SNR (dB)'] = df_snr.mean(axis=1)\n",
    "    return df_snr\n",
    "\n",
    "# Assuming client_data is already loaded\n",
    "snr_df = calculate_relative_snr(client_data, num_clients=NUMBER_OF_CLIENTS, num_classes=NUM_CLASSES)\n",
    "print(snr_df)\n",
    "\n",
    "# Generate LaTeX code for the table\n",
    "latex_code = snr_df.to_latex(index=True, float_format=\"%.2f\", caption=\"Relative SNR Values per Client and Class\", label=\"tab:relative_snr_values\")\n",
    "print(\"\\nLaTeX Table Code:\")\n",
    "print(latex_code)\n"
   ]
  },
  {
   "cell_type": "code",
   "execution_count": null,
   "id": "039256c2",
   "metadata": {},
   "outputs": [],
   "source": []
  },
  {
   "cell_type": "code",
   "execution_count": null,
   "id": "4bb3e2dc",
   "metadata": {},
   "outputs": [],
   "source": []
  },
  {
   "cell_type": "code",
   "execution_count": null,
   "id": "66eebfc3",
   "metadata": {},
   "outputs": [],
   "source": []
  },
  {
   "cell_type": "code",
   "execution_count": 13,
   "id": "120fc094",
   "metadata": {},
   "outputs": [],
   "source": [
    "# Model architecture\n",
    "def conv_block(input_tensor, num_filters):\n",
    "    x = layers.Conv2D(num_filters, 3, padding=\"same\")(input_tensor)\n",
    "    x = layers.BatchNormalization()(x)\n",
    "    x = layers.Activation(\"relu\")(x)\n",
    "    return x\n",
    "\n",
    "def encoder_block(input_tensor, num_filters):\n",
    "    x = conv_block(input_tensor, num_filters)\n",
    "    p = layers.MaxPooling2D((2, 2))(x)\n",
    "    return x, p\n",
    "\n",
    "def decoder_block(input_tensor, concat_tensor, num_filters):\n",
    "    x = layers.Conv2DTranspose(num_filters, (2, 2), strides=2, padding=\"same\")(input_tensor)\n",
    "    x = layers.concatenate([x, concat_tensor], axis=-1)\n",
    "    x = conv_block(x, num_filters)\n",
    "    return x\n",
    "\n",
    "def build_unet(input_shape, num_classes, mult_factor = 0.4):\n",
    "    inputs = layers.Input(shape=input_shape)\n",
    "    x1, p1 = encoder_block(inputs, int(64*mult_factor))\n",
    "    x2, p2 = encoder_block(p1, int(128*mult_factor))\n",
    "    x3, p3 = encoder_block(p2, int(256*mult_factor))\n",
    "    x4, p4 = encoder_block(p3, int(512*mult_factor))\n",
    "    b = conv_block(p4, int(1024*mult_factor))\n",
    "    d1 = decoder_block(b, x4, int(512*mult_factor))\n",
    "    d2 = decoder_block(d1, x3, int(256*mult_factor))\n",
    "    d3 = decoder_block(d2, x2, int(128*mult_factor))\n",
    "    d4 = decoder_block(d3, x1, int(64*mult_factor))\n",
    "    outputs = layers.Conv2D(num_classes, (1, 1), activation=\"softmax\")(d4)\n",
    "    return models.Model(inputs, outputs)\n"
   ]
  },
  {
   "cell_type": "code",
   "execution_count": null,
   "id": "6b59e2c6",
   "metadata": {},
   "outputs": [],
   "source": []
  },
  {
   "cell_type": "code",
   "execution_count": null,
   "id": "6f714e4d",
   "metadata": {},
   "outputs": [],
   "source": []
  },
  {
   "cell_type": "markdown",
   "id": "a6ddfecc",
   "metadata": {},
   "source": [
    "# Centeralized FL"
   ]
  },
  {
   "cell_type": "code",
   "execution_count": 14,
   "id": "38402199",
   "metadata": {},
   "outputs": [],
   "source": [
    "from tensorflow.keras.callbacks import EarlyStopping\n",
    "\n",
    "def centralized_training(x_train, y_train, x_val, y_val, input_shape, num_classes, epochs=10, patience=50):\n",
    "    \"\"\"\n",
    "    Train a baseline model on the entire training dataset without FL, with early stopping.\n",
    "    \n",
    "    Args:\n",
    "        x_train (ndarray): Training input data.\n",
    "        y_train (ndarray): Training labels.\n",
    "        x_val (ndarray): Validation input data.\n",
    "        y_val (ndarray): Validation labels.\n",
    "        input_shape (tuple): Shape of the input data.\n",
    "        num_classes (int): Number of classes in the output.\n",
    "        epochs (int): Number of epochs to train the model.\n",
    "        patience (int): Number of epochs with no improvement after which training will be stopped.\n",
    "    \n",
    "    Returns:\n",
    "        model (tf.keras.Model): Trained model.\n",
    "        history (History): Training history containing loss and accuracy metrics.\n",
    "    \"\"\"\n",
    "    # Build a simple model (for example, U-Net or another architecture)\n",
    "    model = build_unet(input_shape, num_classes)\n",
    "    \n",
    "    # Compile the model with an optimizer and loss function\n",
    "    model.compile(optimizer='sgd', loss='categorical_crossentropy', metrics=['accuracy'])\n",
    "    \n",
    "    # Set up early stopping based on validation loss\n",
    "    early_stop = EarlyStopping(monitor='loss', patience=patience, restore_best_weights=True)\n",
    "    \n",
    "    # Train the model on the full training dataset with early stopping\n",
    "    history = model.fit(x_train, y_train, epochs=epochs,\n",
    "                        validation_data=(x_val, y_val), batch_size=100,\n",
    "                        verbose=0, callbacks=[early_stop, TqdmCallback(verbose=1)])\n",
    "    \n",
    "    return model, history\n"
   ]
  },
  {
   "cell_type": "code",
   "execution_count": 15,
   "id": "10e18f10",
   "metadata": {},
   "outputs": [
    {
     "data": {
      "application/vnd.jupyter.widget-view+json": {
       "model_id": "92730f1e0efb46ab87ea36ebab416059",
       "version_major": 2,
       "version_minor": 0
      },
      "text/plain": [
       "0epoch [00:00, ?epoch/s]"
      ]
     },
     "metadata": {},
     "output_type": "display_data"
    },
    {
     "data": {
      "application/vnd.jupyter.widget-view+json": {
       "model_id": "",
       "version_major": 2,
       "version_minor": 0
      },
      "text/plain": [
       "0batch [00:00, ?batch/s]"
      ]
     },
     "metadata": {},
     "output_type": "display_data"
    },
    {
     "name": "stdout",
     "output_type": "stream",
     "text": [
      "Baseline Validation Accuracy: 0.2964733839035034\n"
     ]
    }
   ],
   "source": [
    "# Train the baseline model\n",
    "baseline_model, baseline_history = centralized_training(x_train, y_train_onehot, x_val, y_val_onehot,\n",
    "                                                        INPUT_SHAPE, NUM_CLASSES, epochs=10)\n",
    "\n",
    "# Evaluate the baseline model on the validation set\n",
    "baseline_val_loss, baseline_val_acc = baseline_model.evaluate(x_val, y_val_onehot, verbose=0)\n",
    "print(f\"Baseline Validation Accuracy: {baseline_val_acc}\")\n",
    "\n",
    "baseline_model.save(\"baseline.keras\")\n"
   ]
  },
  {
   "cell_type": "code",
   "execution_count": null,
   "id": "a9fb5220",
   "metadata": {},
   "outputs": [],
   "source": []
  },
  {
   "cell_type": "code",
   "execution_count": 16,
   "id": "d81bc1ca",
   "metadata": {},
   "outputs": [],
   "source": [
    "baseline_results = {\n",
    "    \"val_acc\": baseline_val_acc,\n",
    "    \"val_loss\": baseline_val_loss,\n",
    "    \"train_history\": baseline_history.history\n",
    "}\n",
    "\n",
    "# Save the baseline results to a file (JSON or pickle)\n",
    "with open('baseline_results.json', 'w') as json_file:\n",
    "    json.dump(baseline_results, json_file, indent=4)\n"
   ]
  },
  {
   "cell_type": "code",
   "execution_count": 17,
   "id": "ca03be15",
   "metadata": {},
   "outputs": [
    {
     "data": {
      "image/png": "[encoded data removed]",
      "text/plain": [
       "<Figure size 1000x500 with 1 Axes>"
      ]
     },
     "metadata": {},
     "output_type": "display_data"
    },
    {
     "data": {
      "image/png": "[encoded data removed]",
      "text/plain": [
       "<Figure size 1000x500 with 1 Axes>"
      ]
     },
     "metadata": {},
     "output_type": "display_data"
    }
   ],
   "source": [
    "import matplotlib.pyplot as plt\n",
    "\n",
    "def plot_baseline_history(history):\n",
    "    # Plot training & validation accuracy values\n",
    "    plt.figure(figsize=(10, 5))\n",
    "    plt.plot(history['accuracy'], label='Train Accuracy')\n",
    "    plt.plot(history['val_accuracy'], label='Validation Accuracy')\n",
    "    plt.title('Baseline Model Accuracy')\n",
    "    plt.ylabel('Accuracy')\n",
    "    plt.xlabel('Epoch')\n",
    "    plt.legend(loc='upper left')\n",
    "    plt.grid(True)\n",
    "    plt.show()\n",
    "\n",
    "    # Plot training & validation loss values\n",
    "    plt.figure(figsize=(10, 5))\n",
    "    plt.plot(history['loss'], label='Train Loss')\n",
    "    plt.plot(history['val_loss'], label='Validation Loss')\n",
    "    plt.title('Baseline Model Loss')\n",
    "    plt.ylabel('Loss')\n",
    "    plt.xlabel('Epoch')\n",
    "    plt.legend(loc='upper left')\n",
    "    plt.grid(True)\n",
    "    plt.show()\n",
    "\n",
    "# Plot the baseline model performance\n",
    "plot_baseline_history(baseline_history.history)\n"
   ]
  },
  {
   "cell_type": "code",
   "execution_count": 18,
   "id": "449adb0d",
   "metadata": {},
   "outputs": [],
   "source": [
    "def plot_centralized_predictions(x_train, y_train, model, CLASSES, INPUT_SHAPE, PRINT_SAMPLE_PRED=True, PROJECT_FOLDER='./'):\n",
    "    \"\"\"\n",
    "    Plot sample predictions from the centralized model trained on the full dataset.\n",
    "    \n",
    "    Args:\n",
    "        x_train (ndarray): Centralized training data.\n",
    "        y_train (ndarray): Centralized training labels.\n",
    "        model (tf.keras.Model): Trained model for making predictions.\n",
    "        CLASSES (list): List of class names.\n",
    "        INPUT_SHAPE (tuple): Shape of the input image (e.g., (256, 256, 3)).\n",
    "        PRINT_SAMPLE_PRED (bool): Whether to print sample predictions.\n",
    "        PROJECT_FOLDER (str): Directory to save prediction plots.\n",
    "    \"\"\"\n",
    "    if PRINT_SAMPLE_PRED:\n",
    "        input_idx = np.random.randint(low=0, high=client_data[0][0].shape[0])  # Random index from the centralized training set\n",
    "        \n",
    "        x_train_tmp, y_train_tmp = client_data[0]\n",
    "        \n",
    "        # Get a random input image and the corresponding real output (label)\n",
    "        input_img = x_train_tmp[input_idx:input_idx+1]\n",
    "        real_output = y_train_tmp[input_idx:input_idx+1]\n",
    "\n",
    "        # Convert real_output to a NumPy array\n",
    "        real_output = tf.make_ndarray(tf.make_tensor_proto(real_output))  # Convert EagerTensor to NumPy array\n",
    "\n",
    "        # Make predictions on the selected input image\n",
    "        y_pred = model.predict(input_img)\n",
    "        y_pred_conv = np.argmax(y_pred, axis=-1)[0]  # Convert probabilities to class labels\n",
    "\n",
    "        # Plot the input image\n",
    "        fig = plt.figure()\n",
    "        ax = fig.add_subplot(111)\n",
    "        heatmap = plt.imshow(input_img.reshape(INPUT_SHAPE).astype(int))\n",
    "        plt.ylabel('Time (ms)')\n",
    "        plt.xlabel('Frequency (MHz)')\n",
    "        ax.set_aspect(0.15)\n",
    "        cax = fig.add_axes([ax.get_position().x1+0.02, ax.get_position().y0, 0.03, ax.get_position().height])\n",
    "        plt.colorbar(heatmap, cax=cax)\n",
    "        plt.show()\n",
    "\n",
    "        # Plot the real output (ground truth)\n",
    "        fig = plt.figure()\n",
    "        ax = fig.add_subplot(111)\n",
    "        heatmap = plt.imshow(real_output.reshape((256, 256)), cmap='viridis')  # Assuming a grayscale output\n",
    "        plt.ylabel('Time (ms)')\n",
    "        plt.xlabel('Frequency (MHz)')\n",
    "        ax.set_aspect(0.15)\n",
    "        cax = fig.add_axes([ax.get_position().x1+0.02, ax.get_position().y0, 0.03, ax.get_position().height])\n",
    "        cbar = plt.colorbar(heatmap, cax=cax)\n",
    "        cbar.ax.get_yaxis().set_ticks([])\n",
    "        for j, lab in enumerate(CLASSES):\n",
    "            cbar.ax.text(3.0, (6.5 * j + 1) / 8.0, lab, ha='left', va='center')\n",
    "        cbar.ax.get_yaxis().labelpad = 15\n",
    "        plt.show()\n",
    "\n",
    "        # Plot the predicted output\n",
    "        fig = plt.figure()\n",
    "        ax = fig.add_subplot(111)\n",
    "        heatmap = plt.imshow(y_pred_conv.reshape((256, 256)), cmap='viridis')\n",
    "        plt.ylabel('Time (ms)')\n",
    "        plt.xlabel('Frequency (MHz)')\n",
    "        ax.set_aspect(0.15)\n",
    "        cax = fig.add_axes([ax.get_position().x1+0.02, ax.get_position().y0, 0.03, ax.get_position().height])\n",
    "        cbar = plt.colorbar(heatmap, cax=cax)\n",
    "        cbar.ax.get_yaxis().set_ticks([])\n",
    "        for j, lab in enumerate(CLASSES):\n",
    "            cbar.ax.text(3.0, (6.5 * j + 1) / 8.0, lab, ha='left', va='center')\n",
    "        cbar.ax.get_yaxis().labelpad = 15\n",
    "        plt.savefig(PROJECT_FOLDER + 'pred_' + str(input_idx) + '.pdf', bbox_inches='tight')\n",
    "        plt.show()\n",
    "\n"
   ]
  },
  {
   "cell_type": "code",
   "execution_count": 19,
   "id": "504987d6",
   "metadata": {},
   "outputs": [
    {
     "name": "stdout",
     "output_type": "stream",
     "text": [
      "\u001b[1m1/1\u001b[0m \u001b[32m━━━━━━━━━━━━━━━━━━━━\u001b[0m\u001b[37m\u001b[0m \u001b[1m0s\u001b[0m 448ms/step\n"
     ]
    },
    {
     "data": {
      "image/png": "[encoded data removed]",
      "text/plain": [
       "<Figure size 640x480 with 2 Axes>"
      ]
     },
     "metadata": {},
     "output_type": "display_data"
    },
    {
     "data": {
      "image/png": "[encoded data removed]",
      "text/plain": [
       "<Figure size 640x480 with 2 Axes>"
      ]
     },
     "metadata": {},
     "output_type": "display_data"
    },
    {
     "data": {
      "image/png": "[encoded data removed]",
      "text/plain": [
       "<Figure size 640x480 with 2 Axes>"
      ]
     },
     "metadata": {},
     "output_type": "display_data"
    }
   ],
   "source": [
    "# After training the baseline centralized model\n",
    "plot_centralized_predictions(x_train, y_train_onehot, baseline_model, CLASSES, INPUT_SHAPE)\n"
   ]
  },
  {
   "cell_type": "markdown",
   "id": "d232948e",
   "metadata": {},
   "source": [
    "# Decenterilazed Federated Learning"
   ]
  },
  {
   "cell_type": "code",
   "execution_count": 20,
   "id": "363cb348",
   "metadata": {},
   "outputs": [],
   "source": [
    "# Create directories to store model weights and datasets\n",
    "os.makedirs('./saved_models', exist_ok=True)\n",
    "os.makedirs('./saved_datasets', exist_ok=True)\n",
    "\n",
    "def save_model_and_data(model, client_id, round_num, x_train, y_train, x_val, y_val):\n",
    "    \"\"\"\n",
    "    Save the model weights and training/testing data for each client at each round.\n",
    "    \n",
    "    Args:\n",
    "        model (tf.keras.Model): The trained model to save.\n",
    "        client_id (int): The client ID.\n",
    "        round_num (int): The current round number.\n",
    "        x_train (np.array): Training features for the client.\n",
    "        y_train (np.array): Training labels for the client.\n",
    "        x_val (np.array): Validation features for the client.\n",
    "        y_val (np.array): Validation labels for the client.\n",
    "    \"\"\"\n",
    "    \n",
    "    # Save training and validation data as numpy files\n",
    "    if round_num > 18:\n",
    "        np.save(f'./saved_datasets/client_{client_id}_round_{round_num}_x_train.npy', x_train)\n",
    "        np.save(f'./saved_datasets/client_{client_id}_round_{round_num}_y_train.npy', y_train)\n",
    "        np.save(f'./saved_datasets/client_{client_id}_round_{round_num}_x_val.npy', x_val)\n",
    "        np.save(f'./saved_datasets/client_{client_id}_round_{round_num}_y_val.npy', y_val)\n",
    "        \n",
    "        # Save model weights\n",
    "        model_dir = f'./saved_models/client_{client_id}_round_{round_num}'\n",
    "        os.makedirs(model_dir, exist_ok=True)\n",
    "        model.save(os.path.join(model_dir, 'model_weights.keras'))\n"
   ]
  },
  {
   "cell_type": "code",
   "execution_count": 21,
   "id": "628539c7",
   "metadata": {},
   "outputs": [],
   "source": [
    "def model_divergence(model1, model2, method='l2'):\n",
    "    \"\"\"\n",
    "    Calculate the divergence between two models based on their weights, optimized for large models.\n",
    "    \n",
    "    Args:\n",
    "        model1 (tf.keras.Model): The first model.\n",
    "        model2 (tf.keras.Model): The second model.\n",
    "        method (str): The divergence method to use ('l2' for L2 norm, 'l1' for L1 norm).\n",
    "    \n",
    "    Returns:\n",
    "        float: The calculated divergence between the two models.\n",
    "    \"\"\"\n",
    "    # Get weights from both models\n",
    "    weights1 = model1.get_weights()\n",
    "    weights2 = model2.get_weights()\n",
    "\n",
    "    divergence = 0\n",
    "    \n",
    "    # Iterate over each layer's weights and calculate the divergence incrementally\n",
    "    for w1, w2 in zip(weights1, weights2):\n",
    "        if method == 'l2':\n",
    "            divergence += np.sum((w1 - w2) ** 2)  # Sum of squared differences for L2\n",
    "        elif method == 'l1':\n",
    "            divergence += np.sum(np.abs(w1 - w2))  # Sum of absolute differences for L1\n",
    "        else:\n",
    "            raise ValueError(f\"Unknown method {method}. Supported methods are 'l2' and 'l1'.\")\n",
    "    \n",
    "    if method == 'l2':\n",
    "        divergence = np.sqrt(divergence)  # Finalize L2 norm by taking the square root\n",
    "    \n",
    "    return divergence\n",
    "\n",
    "\n",
    "def merge_models_local(models, weights=None, weight_strategy='equal', client_data_sizes=None, client_performances=None):\n",
    "    \"\"\"\n",
    "    Merge models locally by averaging the weights of received models.\n",
    "    \n",
    "    Args:\n",
    "        models (list): List of models received from neighboring clients.\n",
    "        weights (list): List of predefined weights for averaging (optional).\n",
    "        weight_strategy (str): The strategy to use for weighting ('equal', 'data_size', 'performance').\n",
    "        client_data_sizes (list): List of data sizes for each client (needed if strategy is 'data_size').\n",
    "        client_performances (list): List of performance metrics (e.g., accuracy) for each client (needed if strategy is 'performance').\n",
    "    \n",
    "    Returns:\n",
    "        averaged_model_weights: The merged model's weights.\n",
    "    \"\"\"\n",
    "    model_weights = [model.get_weights() for model in models]\n",
    "    num_models = len(model_weights)\n",
    "    avg_weights = model_weights[0]  # Initialize with the first model's weights\n",
    "    \n",
    "    # Define the weights based on the specified strategy\n",
    "    if weight_strategy == 'equal':\n",
    "        # Equal weighting for all clients\n",
    "        weights = [1 / num_models] * num_models if weights is None else weights\n",
    "    elif weight_strategy == 'data_size' and client_data_sizes is not None:\n",
    "        # Weight models based on the size of data held by each client\n",
    "        total_data = np.sum(client_data_sizes)\n",
    "        weights = [size / total_data for size in client_data_sizes]\n",
    "    elif weight_strategy == 'performance' and client_performances is not None:\n",
    "        # Weight models based on client performance (e.g., accuracy)\n",
    "        total_performance = np.sum(client_performances)\n",
    "        weights = [perf / total_performance for perf in client_performances]\n",
    "    else:\n",
    "        raise ValueError(f\"Unknown weight strategy: {weight_strategy} or missing data for the strategy\")\n",
    "    \n",
    "    # Perform weighted averaging of the model weights\n",
    "    for layer_idx in range(len(avg_weights)):\n",
    "        avg_weights[layer_idx] = np.sum([weights[i] * model_weights[i][layer_idx] for i in range(num_models)], axis=0)\n",
    "    \n",
    "    return avg_weights\n",
    "\n",
    "\n",
    "def train_local_model(client_data, model, epochs=1, batch_size=32, num_classes=4):\n",
    "    \"\"\"\n",
    "    Train a local model using the client's data.\n",
    "    \n",
    "    Args:\n",
    "        client_data (tuple): The training data for the client (X_train, y_train).\n",
    "        model (tf.keras.Model): The model to be trained locally.\n",
    "        epochs (int): Number of epochs to train for (default is 1 for federated learning).\n",
    "        batch_size (int): Batch size for training.\n",
    "        num_classes (int): Number of output classes (for one-hot encoding).\n",
    "    \n",
    "    Returns:\n",
    "        model: The locally trained model.\n",
    "    \"\"\"\n",
    "    X_train, y_train = client_data\n",
    "    \n",
    "    # Convert y_train to one-hot encoding if needed\n",
    "    if len(y_train.shape) == 3:  # If labels are not yet one-hot encoded\n",
    "        y_train = tf.keras.utils.to_categorical(y_train, num_classes=num_classes)\n",
    "    \n",
    "    # Compile the model\n",
    "    model.compile(optimizer='adam', \n",
    "                  loss='categorical_crossentropy', \n",
    "                  metrics=['accuracy'])\n",
    "    \n",
    "    # Set up early stopping based on validation loss\n",
    "    early_stop = EarlyStopping(monitor='loss', patience=20, restore_best_weights=True)\n",
    "    \n",
    "    # Train the model on the local data\n",
    "    model.fit(X_train, y_train, epochs=epochs, batch_size=batch_size,\n",
    "              verbose=0, callbacks=[TqdmCallback(verbose=1), early_stop])\n",
    "    \n",
    "    return model\n",
    "\n",
    "# Ensure labels are one-hot encoded before evaluation\n",
    "def evaluate_model(model, X_val, y_val, num_classes=4):\n",
    "    \"\"\"Evaluate the model and ensure that the labels are one-hot encoded.\"\"\"\n",
    "    if len(y_val.shape) == 3:  # If labels are not yet one-hot encoded\n",
    "        y_val = tf.keras.utils.to_categorical(y_val, num_classes=num_classes)\n",
    "    \n",
    "    return model.evaluate(X_val, y_val, verbose=0)\n",
    "\n",
    "def decentralized_federated_learning(NUM_ROUNDS, client_data, initial_model, num_clients, neighbors_dict,\n",
    "                                     weight_strategy='equal', client_data_sizes=None, client_performances=None):\n",
    "    \"\"\"\n",
    "    Perform decentralized federated learning while gathering insights.\n",
    "    \n",
    "    Args:\n",
    "        NUM_ROUNDS (int): Number of federated learning rounds.\n",
    "        client_data (list): List of client datasets.\n",
    "        initial_model (tf.keras.Model): The model that each client starts with.\n",
    "        num_clients (int): Number of clients in the network.\n",
    "        neighbors_dict (dict): Dictionary defining the neighbors for each client.\n",
    "        weight_strategy (str): The strategy to use for weighting ('equal', 'data_size', 'performance').\n",
    "        client_data_sizes (list): List of data sizes for each client (needed if strategy is 'data_size').\n",
    "        client_performances (list): List of performance metrics (e.g., accuracy) for each client (needed if strategy is 'performance').\n",
    "    \n",
    "    Returns:\n",
    "        insights (dict): A dictionary of metrics collected over the training process.\n",
    "    \"\"\"\n",
    "    # Initialize a model for each client\n",
    "    local_models = [tf.keras.models.clone_model(initial_model) for _ in range(num_clients)]\n",
    "    for model in local_models:\n",
    "        model.set_weights(initial_model.get_weights())  # Start with the same weights\n",
    "    \n",
    "    insights = {\n",
    "        \"train_acc\": [],        # Track train accuracy per client per round\n",
    "        \"val_acc\": [],          # Track validation accuracy per client per round\n",
    "        \"divergence\": [],       # Track divergence between clients' models before and after merging\n",
    "        \"client_communication\": []  # Track how many clients communicated in each round\n",
    "    }\n",
    "\n",
    "    for round_num in tqdm(range(NUM_ROUNDS)):\n",
    "        round_train_acc = []\n",
    "        round_val_acc = []  # Store the validation accuracy for each client\n",
    "        round_divergence = []\n",
    "        \n",
    "        # Local training for each client\n",
    "        for i in range(num_clients):\n",
    "            local_models[i] = train_local_model(client_data[i], local_models[i], epochs=10)\n",
    "            _, train_acc = evaluate_model(local_models[i], client_data[i][0], client_data[i][1])\n",
    "            round_train_acc.append(train_acc)\n",
    "            \n",
    "            # Save the local model and datasets after training\n",
    "            X_train, y_train = client_data[i]\n",
    "            save_model_and_data(local_models[i], i, round_num, X_train, y_train, X_train, y_train)\n",
    "        \n",
    "        insights[\"train_acc\"].append(round_train_acc)\n",
    "\n",
    "        # Decentralized model merging and model divergence tracking\n",
    "        for i in range(num_clients):\n",
    "            # Get the models from neighboring clients\n",
    "            neighbor_models = [local_models[neighbor] for neighbor in neighbors_dict[i]]\n",
    "            neighbor_models.append(local_models[i])  # Include the client's own model\n",
    "            \n",
    "            # Track model divergence before merging\n",
    "            client_divergence = [model_divergence(local_models[i], neighbor_model) for neighbor_model in neighbor_models]\n",
    "            round_divergence.append(np.mean(client_divergence))\n",
    "            \n",
    "            # Perform the model merging with the specified weighting strategy\n",
    "            new_weights = merge_models_local(neighbor_models, weight_strategy=weight_strategy, \n",
    "                                             client_data_sizes=client_data_sizes, client_performances=client_performances)\n",
    "            local_models[i].set_weights(new_weights)  # Update client's model with the merged weights\n",
    "        \n",
    "        insights[\"divergence\"].append(round_divergence)\n",
    "\n",
    "        # Evaluate every client's model on the validation set after each round\n",
    "        for i in range(num_clients):\n",
    "            _, val_acc = evaluate_model(local_models[i], x_val, y_val_onehot)\n",
    "            round_val_acc.append(val_acc)\n",
    "        \n",
    "        insights[\"val_acc\"].append(round_val_acc)\n",
    "        \n",
    "        # Track the number of communications (i.e., number of neighbors contacted)\n",
    "        num_communications = sum([len(neighbors_dict[i]) for i in range(num_clients)])\n",
    "        insights[\"client_communication\"].append(num_communications)\n",
    "        \n",
    "        # Print progress (average validation accuracy across all clients)\n",
    "        print(f\"Round {round_num + 1}: Train Acc (avg): {np.mean(round_train_acc)}, Val Acc (avg): {np.mean(round_val_acc)}\")\n",
    "        \n",
    "        if PRINT_SAMPLE_PRED and np.random.randint(0,40)==0:\n",
    "            x_train_tmp, y_train_tmp = client_data[0]\n",
    "            input_idx = np.random.randint(low=0,high=x_train_tmp.shape[0])\n",
    "\n",
    "            input_img = x_train_tmp[input_idx:input_idx+1]\n",
    "            real_output = y_train_tmp[input_idx:input_idx+1]\n",
    "\n",
    "            y_pred = local_models[0].predict(input_img)\n",
    "            #y_pred_conv = np.round(y_pred*2.0)\n",
    "            y_pred_conv = np.argmax(y_pred, axis=-1)[0]  # Convert probabilities to class labels\n",
    "\n",
    "            fig = plt.figure()\n",
    "            ax = fig.add_subplot(111)\n",
    "            heatmap = plt.imshow(input_img.reshape((256,256,3)).astype(int))\n",
    "            plt.ylabel('Time (ms)')\n",
    "            plt.xlabel('Frequency (MHz)')\n",
    "            ax.set_aspect(0.15)\n",
    "            cax = fig.add_axes([ax.get_position().x1+0.02,ax.get_position().y0,0.03,ax.get_position().height])\n",
    "            plt.colorbar(heatmap, cax=cax)\n",
    "            plt.show()\n",
    "\n",
    "            fig = plt.figure()\n",
    "            ax = fig.add_subplot(111)\n",
    "            heatmap = plt.imshow(real_output.reshape((256,256)), cmap=cmp)\n",
    "            plt.ylabel('Time (ms)')\n",
    "            plt.xlabel('Frequency (MHz)')\n",
    "            ax.set_aspect(0.15)\n",
    "            cax = fig.add_axes([ax.get_position().x1+0.02,ax.get_position().y0,0.03,ax.get_position().height])\n",
    "            cbar = plt.colorbar(heatmap, cax=cax)\n",
    "            cbar.ax.get_yaxis().set_ticks([])\n",
    "            for j, lab in enumerate(CLASSES):\n",
    "                cbar.ax.text(3.0, (6.5 * j + 1) / 8.0, lab, ha='left', va='center')\n",
    "            cbar.ax.get_yaxis().labelpad = 15\n",
    "            plt.show()\n",
    "\n",
    "            fig = plt.figure()\n",
    "            ax = fig.add_subplot(111)\n",
    "            heatmap = plt.imshow(y_pred_conv.reshape((256,256)), cmap=cmp)\n",
    "            plt.ylabel('Time (ms)')\n",
    "            plt.xlabel('Frequency (MHz)')\n",
    "            ax.set_aspect(0.15)\n",
    "            cax = fig.add_axes([ax.get_position().x1+0.02,ax.get_position().y0,0.03,ax.get_position().height])\n",
    "            cbar = plt.colorbar(heatmap, cax=cax)\n",
    "            cbar = plt.colorbar(heatmap, cax=cax)\n",
    "            cbar.ax.get_yaxis().set_ticks([])\n",
    "            for j, lab in enumerate(CLASSES):\n",
    "                cbar.ax.text(3.0, (6.5 * j + 1) / 8.0, lab, ha='left', va='center')\n",
    "            cbar.ax.get_yaxis().labelpad = 15\n",
    "            plt.savefig(PROJECT_FOLDER + 'pred_' + str(i) + '.pdf' ,bbox_inches='tight')\n",
    "            plt.show()\n",
    "\n",
    "            eval = evaluate_segmentation(real_output.reshape((256,256)), y_pred_conv.reshape((256,256)), CLASSES)\n",
    "            fig, axes = eval.show_confusion_matrix()\n",
    "            plt.show()\n",
    "\n",
    "    return insights"
   ]
  },
  {
   "cell_type": "code",
   "execution_count": 22,
   "id": "a953396d",
   "metadata": {},
   "outputs": [],
   "source": [
    "def save_results_to_file(results, file_format='json', filename='experiment_results'):\n",
    "    \"\"\"\n",
    "    Save the results to a file after each iteration.\n",
    "    \n",
    "    Args:\n",
    "        results (list): The list of results collected so far.\n",
    "        file_format (str): The file format to use for saving ('json' or 'pickle').\n",
    "        filename (str): The base filename for saving the results.\n",
    "    \"\"\"\n",
    "    if file_format == 'json':\n",
    "        with open(f'{filename}.json', 'a') as json_file:\n",
    "            json.dump(results, json_file, indent=4)\n",
    "    elif file_format == 'pickle':\n",
    "        with open(f'{filename}.pkl', 'ab') as pickle_file:\n",
    "            pickle.dump(results, pickle_file)"
   ]
  },
  {
   "cell_type": "code",
   "execution_count": 23,
   "id": "f96cfc09",
   "metadata": {},
   "outputs": [],
   "source": [
    "def run_multiple_experiments(num_experiments, num_rounds, client_data, initial_model, num_clients, neighbors_dict, weight_strategy='equal', file_format='json', filename='experiment_results'):\n",
    "    \"\"\"\n",
    "    Run multiple experiments and save the results incrementally.\n",
    "    \n",
    "    Args:\n",
    "        num_experiments (int): The number of experiments to run.\n",
    "        num_rounds (int): The number of rounds to perform in each experiment.\n",
    "        client_data (list): The client datasets.\n",
    "        initial_model (tf.keras.Model): The initial model for each experiment.\n",
    "        num_clients (int): The number of clients.\n",
    "        neighbors_dict (dict): The neighbors for each client.\n",
    "        weight_strategy (str): The strategy to use for weighting ('equal', 'data_size', 'performance').\n",
    "        file_format (str): The file format to use for saving ('json' or 'pickle').\n",
    "        filename (str): The base filename for saving the results.\n",
    "    \n",
    "    Returns:\n",
    "        results (list): The list of results from all experiments.\n",
    "    \"\"\"\n",
    "    results = []  # To store insights from each run\n",
    "    \n",
    "    # Run the experiment multiple times\n",
    "    for exp_num in range(num_experiments):\n",
    "        print(f\"Running Experiment {exp_num + 1}/{num_experiments}...\")\n",
    "        \n",
    "        client_data_sizes = [len(data[0]) for data in client_data]  # Calculate client data sizes\n",
    "        \n",
    "        # Perform the experiment\n",
    "        insights = decentralized_federated_learning(NUM_ROUNDS=num_rounds, client_data=client_data, \n",
    "                                                    initial_model=initial_model, num_clients=num_clients, \n",
    "                                                    neighbors_dict=neighbors_dict, weight_strategy=weight_strategy, \n",
    "                                                    client_data_sizes=client_data_sizes)\n",
    "        \n",
    "        # Collect the insights from this run\n",
    "        results.append({\n",
    "            \"experiment\": exp_num + 1,\n",
    "            \"train_acc\": insights[\"train_acc\"],\n",
    "            \"val_acc\": insights[\"val_acc\"],\n",
    "            \"divergence\": insights[\"divergence\"],\n",
    "            \"client_communication\": insights[\"client_communication\"]\n",
    "        })\n",
    "        \n",
    "        # Save the results to a file after each experiment\n",
    "        save_results_to_file(results, file_format=file_format, filename=filename)\n",
    "    \n",
    "    return results"
   ]
  },
  {
   "cell_type": "code",
   "execution_count": null,
   "id": "86a11bf5",
   "metadata": {},
   "outputs": [],
   "source": []
  },
  {
   "cell_type": "code",
   "execution_count": null,
   "id": "331dc28c",
   "metadata": {},
   "outputs": [],
   "source": []
  },
  {
   "cell_type": "code",
   "execution_count": 24,
   "id": "ae92713a",
   "metadata": {},
   "outputs": [],
   "source": [
    "# Build and compile the U-Net model\n",
    "global_model = build_unet(INPUT_SHAPE, NUM_CLASSES)\n",
    "global_model.compile(optimizer='adam', loss='categorical_crossentropy', metrics=['accuracy'])\n",
    "\n",
    "# Example topology and usage\n",
    "neighbors_dict = {\n",
    "    0: [1, 4],  # Client 0 communicates with Client 1 and Client 4\n",
    "    1: [0, 2],  # Client 1 communicates with Client 0 and Client 2\n",
    "    2: [1, 3],  # Client 2 communicates with Client 1 and Client 3\n",
    "    3: [2, 4],  # Client 3 communicates with Client 2 and Client 4\n",
    "    4: [0, 3],  # Client 4 communicates with Client 0 and Client 3\n",
    "}\n",
    "\n"
   ]
  },
  {
   "cell_type": "code",
   "execution_count": null,
   "id": "303bd20c",
   "metadata": {},
   "outputs": [],
   "source": []
  },
  {
   "cell_type": "code",
   "execution_count": null,
   "id": "80cbe3f3",
   "metadata": {},
   "outputs": [],
   "source": []
  },
  {
   "cell_type": "code",
   "execution_count": 25,
   "id": "1c1105e9",
   "metadata": {},
   "outputs": [
    {
     "name": "stdout",
     "output_type": "stream",
     "text": [
      "Running Experiment 1/1...\n"
     ]
    },
    {
     "data": {
      "application/vnd.jupyter.widget-view+json": {
       "model_id": "3e07719f265a4361b1ad8765eedcd8ee",
       "version_major": 2,
       "version_minor": 0
      },
      "text/plain": [
       "  0%|          | 0/40 [00:00<?, ?it/s]"
      ]
     },
     "metadata": {},
     "output_type": "display_data"
    },
    {
     "data": {
      "application/vnd.jupyter.widget-view+json": {
       "model_id": "055e63e3b06344c5ac6f22413e203a4f",
       "version_major": 2,
       "version_minor": 0
      },
      "text/plain": [
       "0epoch [00:00, ?epoch/s]"
      ]
     },
     "metadata": {},
     "output_type": "display_data"
    },
    {
     "data": {
      "application/vnd.jupyter.widget-view+json": {
       "model_id": "",
       "version_major": 2,
       "version_minor": 0
      },
      "text/plain": [
       "0batch [00:00, ?batch/s]"
      ]
     },
     "metadata": {},
     "output_type": "display_data"
    },
    {
     "data": {
      "application/vnd.jupyter.widget-view+json": {
       "model_id": "c2d5d8f51752443a8e7c58b01146b9cb",
       "version_major": 2,
       "version_minor": 0
      },
      "text/plain": [
       "0epoch [00:00, ?epoch/s]"
      ]
     },
     "metadata": {},
     "output_type": "display_data"
    },
    {
     "data": {
      "application/vnd.jupyter.widget-view+json": {
       "model_id": "",
       "version_major": 2,
       "version_minor": 0
      },
      "text/plain": [
       "0batch [00:00, ?batch/s]"
      ]
     },
     "metadata": {},
     "output_type": "display_data"
    },
    {
     "data": {
      "application/vnd.jupyter.widget-view+json": {
       "model_id": "39bb7eee78d24e04a1c96b0cd14ee7c8",
       "version_major": 2,
       "version_minor": 0
      },
      "text/plain": [
       "0epoch [00:00, ?epoch/s]"
      ]
     },
     "metadata": {},
     "output_type": "display_data"
    },
    {
     "data": {
      "application/vnd.jupyter.widget-view+json": {
       "model_id": "",
       "version_major": 2,
       "version_minor": 0
      },
      "text/plain": [
       "0batch [00:00, ?batch/s]"
      ]
     },
     "metadata": {},
     "output_type": "display_data"
    },
    {
     "data": {
      "application/vnd.jupyter.widget-view+json": {
       "model_id": "0196ecf851884f798df14318b9ab6c4f",
       "version_major": 2,
       "version_minor": 0
      },
      "text/plain": [
       "0epoch [00:00, ?epoch/s]"
      ]
     },
     "metadata": {},
     "output_type": "display_data"
    },
    {
     "data": {
      "application/vnd.jupyter.widget-view+json": {
       "model_id": "",
       "version_major": 2,
       "version_minor": 0
      },
      "text/plain": [
       "0batch [00:00, ?batch/s]"
      ]
     },
     "metadata": {},
     "output_type": "display_data"
    },
    {
     "data": {
      "application/vnd.jupyter.widget-view+json": {
       "model_id": "8ef395f7ca0d434e84421faf03b75d27",
       "version_major": 2,
       "version_minor": 0
      },
      "text/plain": [
       "0epoch [00:00, ?epoch/s]"
      ]
     },
     "metadata": {},
     "output_type": "display_data"
    },
    {
     "data": {
      "application/vnd.jupyter.widget-view+json": {
       "model_id": "",
       "version_major": 2,
       "version_minor": 0
      },
      "text/plain": [
       "0batch [00:00, ?batch/s]"
      ]
     },
     "metadata": {},
     "output_type": "display_data"
    },
    {
     "name": "stdout",
     "output_type": "stream",
     "text": [
      "Round 1: Train Acc (avg): 0.2776164084672928, Val Acc (avg): 0.3002276599407196\n"
     ]
    },
    {
     "data": {
      "application/vnd.jupyter.widget-view+json": {
       "model_id": "4ce3e9984c4847e0a6c41e053797a134",
       "version_major": 2,
       "version_minor": 0
      },
      "text/plain": [
       "0epoch [00:00, ?epoch/s]"
      ]
     },
     "metadata": {},
     "output_type": "display_data"
    },
    {
     "data": {
      "application/vnd.jupyter.widget-view+json": {
       "model_id": "",
       "version_major": 2,
       "version_minor": 0
      },
      "text/plain": [
       "0batch [00:00, ?batch/s]"
      ]
     },
     "metadata": {},
     "output_type": "display_data"
    },
    {
     "data": {
      "application/vnd.jupyter.widget-view+json": {
       "model_id": "5937e81c15ed4b69b458942085f4b75f",
       "version_major": 2,
       "version_minor": 0
      },
      "text/plain": [
       "0epoch [00:00, ?epoch/s]"
      ]
     },
     "metadata": {},
     "output_type": "display_data"
    },
    {
     "data": {
      "application/vnd.jupyter.widget-view+json": {
       "model_id": "",
       "version_major": 2,
       "version_minor": 0
      },
      "text/plain": [
       "0batch [00:00, ?batch/s]"
      ]
     },
     "metadata": {},
     "output_type": "display_data"
    },
    {
     "data": {
      "application/vnd.jupyter.widget-view+json": {
       "model_id": "abcd210ed4c34211993c31a42ac5cc40",
       "version_major": 2,
       "version_minor": 0
      },
      "text/plain": [
       "0epoch [00:00, ?epoch/s]"
      ]
     },
     "metadata": {},
     "output_type": "display_data"
    },
    {
     "data": {
      "application/vnd.jupyter.widget-view+json": {
       "model_id": "",
       "version_major": 2,
       "version_minor": 0
      },
      "text/plain": [
       "0batch [00:00, ?batch/s]"
      ]
     },
     "metadata": {},
     "output_type": "display_data"
    },
    {
     "data": {
      "application/vnd.jupyter.widget-view+json": {
       "model_id": "f46754c64343413fbf02b3c18075997f",
       "version_major": 2,
       "version_minor": 0
      },
      "text/plain": [
       "0epoch [00:00, ?epoch/s]"
      ]
     },
     "metadata": {},
     "output_type": "display_data"
    },
    {
     "data": {
      "application/vnd.jupyter.widget-view+json": {
       "model_id": "",
       "version_major": 2,
       "version_minor": 0
      },
      "text/plain": [
       "0batch [00:00, ?batch/s]"
      ]
     },
     "metadata": {},
     "output_type": "display_data"
    },
    {
     "data": {
      "application/vnd.jupyter.widget-view+json": {
       "model_id": "dc4c0e92e2584903a4733752cee6d10a",
       "version_major": 2,
       "version_minor": 0
      },
      "text/plain": [
       "0epoch [00:00, ?epoch/s]"
      ]
     },
     "metadata": {},
     "output_type": "display_data"
    },
    {
     "data": {
      "application/vnd.jupyter.widget-view+json": {
       "model_id": "",
       "version_major": 2,
       "version_minor": 0
      },
      "text/plain": [
       "0batch [00:00, ?batch/s]"
      ]
     },
     "metadata": {},
     "output_type": "display_data"
    },
    {
     "name": "stdout",
     "output_type": "stream",
     "text": [
      "Round 2: Train Acc (avg): 0.3160227298736572, Val Acc (avg): 0.3212536573410034\n"
     ]
    },
    {
     "data": {
      "application/vnd.jupyter.widget-view+json": {
       "model_id": "44823633deb24f1cb492903f9e61ca21",
       "version_major": 2,
       "version_minor": 0
      },
      "text/plain": [
       "0epoch [00:00, ?epoch/s]"
      ]
     },
     "metadata": {},
     "output_type": "display_data"
    },
    {
     "data": {
      "application/vnd.jupyter.widget-view+json": {
       "model_id": "",
       "version_major": 2,
       "version_minor": 0
      },
      "text/plain": [
       "0batch [00:00, ?batch/s]"
      ]
     },
     "metadata": {},
     "output_type": "display_data"
    },
    {
     "data": {
      "application/vnd.jupyter.widget-view+json": {
       "model_id": "759e97ee6fcd4f099a24e964be5ff77c",
       "version_major": 2,
       "version_minor": 0
      },
      "text/plain": [
       "0epoch [00:00, ?epoch/s]"
      ]
     },
     "metadata": {},
     "output_type": "display_data"
    },
    {
     "data": {
      "application/vnd.jupyter.widget-view+json": {
       "model_id": "",
       "version_major": 2,
       "version_minor": 0
      },
      "text/plain": [
       "0batch [00:00, ?batch/s]"
      ]
     },
     "metadata": {},
     "output_type": "display_data"
    },
    {
     "data": {
      "application/vnd.jupyter.widget-view+json": {
       "model_id": "00fce1d23ae842cbbb84b6879f68f4cf",
       "version_major": 2,
       "version_minor": 0
      },
      "text/plain": [
       "0epoch [00:00, ?epoch/s]"
      ]
     },
     "metadata": {},
     "output_type": "display_data"
    },
    {
     "data": {
      "application/vnd.jupyter.widget-view+json": {
       "model_id": "",
       "version_major": 2,
       "version_minor": 0
      },
      "text/plain": [
       "0batch [00:00, ?batch/s]"
      ]
     },
     "metadata": {},
     "output_type": "display_data"
    },
    {
     "data": {
      "application/vnd.jupyter.widget-view+json": {
       "model_id": "23de19a98695466daba0a27c2b7b68c8",
       "version_major": 2,
       "version_minor": 0
      },
      "text/plain": [
       "0epoch [00:00, ?epoch/s]"
      ]
     },
     "metadata": {},
     "output_type": "display_data"
    },
    {
     "data": {
      "application/vnd.jupyter.widget-view+json": {
       "model_id": "",
       "version_major": 2,
       "version_minor": 0
      },
      "text/plain": [
       "0batch [00:00, ?batch/s]"
      ]
     },
     "metadata": {},
     "output_type": "display_data"
    },
    {
     "data": {
      "application/vnd.jupyter.widget-view+json": {
       "model_id": "d104f732f7bb4d2781fec9ae5e4b8182",
       "version_major": 2,
       "version_minor": 0
      },
      "text/plain": [
       "0epoch [00:00, ?epoch/s]"
      ]
     },
     "metadata": {},
     "output_type": "display_data"
    },
    {
     "data": {
      "application/vnd.jupyter.widget-view+json": {
       "model_id": "",
       "version_major": 2,
       "version_minor": 0
      },
      "text/plain": [
       "0batch [00:00, ?batch/s]"
      ]
     },
     "metadata": {},
     "output_type": "display_data"
    },
    {
     "name": "stdout",
     "output_type": "stream",
     "text": [
      "Round 3: Train Acc (avg): 0.47617424130439756, Val Acc (avg): 0.33416265845298765\n"
     ]
    },
    {
     "data": {
      "application/vnd.jupyter.widget-view+json": {
       "model_id": "c406baa402a5465e8c02b890eaec8d2a",
       "version_major": 2,
       "version_minor": 0
      },
      "text/plain": [
       "0epoch [00:00, ?epoch/s]"
      ]
     },
     "metadata": {},
     "output_type": "display_data"
    },
    {
     "data": {
      "application/vnd.jupyter.widget-view+json": {
       "model_id": "",
       "version_major": 2,
       "version_minor": 0
      },
      "text/plain": [
       "0batch [00:00, ?batch/s]"
      ]
     },
     "metadata": {},
     "output_type": "display_data"
    },
    {
     "data": {
      "application/vnd.jupyter.widget-view+json": {
       "model_id": "2cc065291c80477aa90fe442d3b7935e",
       "version_major": 2,
       "version_minor": 0
      },
      "text/plain": [
       "0epoch [00:00, ?epoch/s]"
      ]
     },
     "metadata": {},
     "output_type": "display_data"
    },
    {
     "data": {
      "application/vnd.jupyter.widget-view+json": {
       "model_id": "",
       "version_major": 2,
       "version_minor": 0
      },
      "text/plain": [
       "0batch [00:00, ?batch/s]"
      ]
     },
     "metadata": {},
     "output_type": "display_data"
    },
    {
     "data": {
      "application/vnd.jupyter.widget-view+json": {
       "model_id": "4814f458c9064f1d83101383c6263c8a",
       "version_major": 2,
       "version_minor": 0
      },
      "text/plain": [
       "0epoch [00:00, ?epoch/s]"
      ]
     },
     "metadata": {},
     "output_type": "display_data"
    },
    {
     "data": {
      "application/vnd.jupyter.widget-view+json": {
       "model_id": "",
       "version_major": 2,
       "version_minor": 0
      },
      "text/plain": [
       "0batch [00:00, ?batch/s]"
      ]
     },
     "metadata": {},
     "output_type": "display_data"
    },
    {
     "data": {
      "application/vnd.jupyter.widget-view+json": {
       "model_id": "4c0b46a72f1e405cb37dcdd507dc2136",
       "version_major": 2,
       "version_minor": 0
      },
      "text/plain": [
       "0epoch [00:00, ?epoch/s]"
      ]
     },
     "metadata": {},
     "output_type": "display_data"
    },
    {
     "data": {
      "application/vnd.jupyter.widget-view+json": {
       "model_id": "",
       "version_major": 2,
       "version_minor": 0
      },
      "text/plain": [
       "0batch [00:00, ?batch/s]"
      ]
     },
     "metadata": {},
     "output_type": "display_data"
    },
    {
     "data": {
      "application/vnd.jupyter.widget-view+json": {
       "model_id": "21abad0d31684e48b5f51fb4292773c8",
       "version_major": 2,
       "version_minor": 0
      },
      "text/plain": [
       "0epoch [00:00, ?epoch/s]"
      ]
     },
     "metadata": {},
     "output_type": "display_data"
    },
    {
     "data": {
      "application/vnd.jupyter.widget-view+json": {
       "model_id": "",
       "version_major": 2,
       "version_minor": 0
      },
      "text/plain": [
       "0batch [00:00, ?batch/s]"
      ]
     },
     "metadata": {},
     "output_type": "display_data"
    },
    {
     "name": "stdout",
     "output_type": "stream",
     "text": [
      "Round 4: Train Acc (avg): 0.4471853494644165, Val Acc (avg): 0.35896472334861756\n"
     ]
    },
    {
     "data": {
      "application/vnd.jupyter.widget-view+json": {
       "model_id": "0ca1a55e2e5742f4be41de74cb1814fb",
       "version_major": 2,
       "version_minor": 0
      },
      "text/plain": [
       "0epoch [00:00, ?epoch/s]"
      ]
     },
     "metadata": {},
     "output_type": "display_data"
    },
    {
     "data": {
      "application/vnd.jupyter.widget-view+json": {
       "model_id": "",
       "version_major": 2,
       "version_minor": 0
      },
      "text/plain": [
       "0batch [00:00, ?batch/s]"
      ]
     },
     "metadata": {},
     "output_type": "display_data"
    },
    {
     "data": {
      "application/vnd.jupyter.widget-view+json": {
       "model_id": "988ca0248ee741e5907e86b9c13fae6c",
       "version_major": 2,
       "version_minor": 0
      },
      "text/plain": [
       "0epoch [00:00, ?epoch/s]"
      ]
     },
     "metadata": {},
     "output_type": "display_data"
    },
    {
     "data": {
      "application/vnd.jupyter.widget-view+json": {
       "model_id": "",
       "version_major": 2,
       "version_minor": 0
      },
      "text/plain": [
       "0batch [00:00, ?batch/s]"
      ]
     },
     "metadata": {},
     "output_type": "display_data"
    },
    {
     "data": {
      "application/vnd.jupyter.widget-view+json": {
       "model_id": "df24c8ac1a5c4e64b3dd56f47d11924e",
       "version_major": 2,
       "version_minor": 0
      },
      "text/plain": [
       "0epoch [00:00, ?epoch/s]"
      ]
     },
     "metadata": {},
     "output_type": "display_data"
    },
    {
     "data": {
      "application/vnd.jupyter.widget-view+json": {
       "model_id": "",
       "version_major": 2,
       "version_minor": 0
      },
      "text/plain": [
       "0batch [00:00, ?batch/s]"
      ]
     },
     "metadata": {},
     "output_type": "display_data"
    },
    {
     "data": {
      "application/vnd.jupyter.widget-view+json": {
       "model_id": "eaca6b5de03f4d95850489a288742c6a",
       "version_major": 2,
       "version_minor": 0
      },
      "text/plain": [
       "0epoch [00:00, ?epoch/s]"
      ]
     },
     "metadata": {},
     "output_type": "display_data"
    },
    {
     "data": {
      "application/vnd.jupyter.widget-view+json": {
       "model_id": "",
       "version_major": 2,
       "version_minor": 0
      },
      "text/plain": [
       "0batch [00:00, ?batch/s]"
      ]
     },
     "metadata": {},
     "output_type": "display_data"
    },
    {
     "data": {
      "application/vnd.jupyter.widget-view+json": {
       "model_id": "701a2e536e394c178b0005fe1d0fca96",
       "version_major": 2,
       "version_minor": 0
      },
      "text/plain": [
       "0epoch [00:00, ?epoch/s]"
      ]
     },
     "metadata": {},
     "output_type": "display_data"
    },
    {
     "data": {
      "application/vnd.jupyter.widget-view+json": {
       "model_id": "",
       "version_major": 2,
       "version_minor": 0
      },
      "text/plain": [
       "0batch [00:00, ?batch/s]"
      ]
     },
     "metadata": {},
     "output_type": "display_data"
    },
    {
     "name": "stdout",
     "output_type": "stream",
     "text": [
      "Round 5: Train Acc (avg): 0.6273256719112397, Val Acc (avg): 0.4808048665523529\n"
     ]
    },
    {
     "data": {
      "application/vnd.jupyter.widget-view+json": {
       "model_id": "0c72253275a74bad9ec43cfb9521fd76",
       "version_major": 2,
       "version_minor": 0
      },
      "text/plain": [
       "0epoch [00:00, ?epoch/s]"
      ]
     },
     "metadata": {},
     "output_type": "display_data"
    },
    {
     "data": {
      "application/vnd.jupyter.widget-view+json": {
       "model_id": "",
       "version_major": 2,
       "version_minor": 0
      },
      "text/plain": [
       "0batch [00:00, ?batch/s]"
      ]
     },
     "metadata": {},
     "output_type": "display_data"
    },
    {
     "data": {
      "application/vnd.jupyter.widget-view+json": {
       "model_id": "c59e9b4e4692408885fc23894543ba9c",
       "version_major": 2,
       "version_minor": 0
      },
      "text/plain": [
       "0epoch [00:00, ?epoch/s]"
      ]
     },
     "metadata": {},
     "output_type": "display_data"
    },
    {
     "data": {
      "application/vnd.jupyter.widget-view+json": {
       "model_id": "",
       "version_major": 2,
       "version_minor": 0
      },
      "text/plain": [
       "0batch [00:00, ?batch/s]"
      ]
     },
     "metadata": {},
     "output_type": "display_data"
    },
    {
     "data": {
      "application/vnd.jupyter.widget-view+json": {
       "model_id": "430ace82afbb42748ceac1022a219367",
       "version_major": 2,
       "version_minor": 0
      },
      "text/plain": [
       "0epoch [00:00, ?epoch/s]"
      ]
     },
     "metadata": {},
     "output_type": "display_data"
    },
    {
     "data": {
      "application/vnd.jupyter.widget-view+json": {
       "model_id": "",
       "version_major": 2,
       "version_minor": 0
      },
      "text/plain": [
       "0batch [00:00, ?batch/s]"
      ]
     },
     "metadata": {},
     "output_type": "display_data"
    },
    {
     "data": {
      "application/vnd.jupyter.widget-view+json": {
       "model_id": "76d38029132444c78fed04f1a032c004",
       "version_major": 2,
       "version_minor": 0
      },
      "text/plain": [
       "0epoch [00:00, ?epoch/s]"
      ]
     },
     "metadata": {},
     "output_type": "display_data"
    },
    {
     "data": {
      "application/vnd.jupyter.widget-view+json": {
       "model_id": "",
       "version_major": 2,
       "version_minor": 0
      },
      "text/plain": [
       "0batch [00:00, ?batch/s]"
      ]
     },
     "metadata": {},
     "output_type": "display_data"
    },
    {
     "data": {
      "application/vnd.jupyter.widget-view+json": {
       "model_id": "1328761b1c42407f852e6041fc2d1795",
       "version_major": 2,
       "version_minor": 0
      },
      "text/plain": [
       "0epoch [00:00, ?epoch/s]"
      ]
     },
     "metadata": {},
     "output_type": "display_data"
    },
    {
     "data": {
      "application/vnd.jupyter.widget-view+json": {
       "model_id": "",
       "version_major": 2,
       "version_minor": 0
      },
      "text/plain": [
       "0batch [00:00, ?batch/s]"
      ]
     },
     "metadata": {},
     "output_type": "display_data"
    },
    {
     "name": "stdout",
     "output_type": "stream",
     "text": [
      "Round 6: Train Acc (avg): 0.6118295013904571, Val Acc (avg): 0.5537091016769409\n"
     ]
    },
    {
     "data": {
      "application/vnd.jupyter.widget-view+json": {
       "model_id": "ed0fdbd2678e42e39cb32108b715ab50",
       "version_major": 2,
       "version_minor": 0
      },
      "text/plain": [
       "0epoch [00:00, ?epoch/s]"
      ]
     },
     "metadata": {},
     "output_type": "display_data"
    },
    {
     "data": {
      "application/vnd.jupyter.widget-view+json": {
       "model_id": "",
       "version_major": 2,
       "version_minor": 0
      },
      "text/plain": [
       "0batch [00:00, ?batch/s]"
      ]
     },
     "metadata": {},
     "output_type": "display_data"
    },
    {
     "data": {
      "application/vnd.jupyter.widget-view+json": {
       "model_id": "3afadc237623414bbfab645f013ac4ae",
       "version_major": 2,
       "version_minor": 0
      },
      "text/plain": [
       "0epoch [00:00, ?epoch/s]"
      ]
     },
     "metadata": {},
     "output_type": "display_data"
    },
    {
     "data": {
      "application/vnd.jupyter.widget-view+json": {
       "model_id": "",
       "version_major": 2,
       "version_minor": 0
      },
      "text/plain": [
       "0batch [00:00, ?batch/s]"
      ]
     },
     "metadata": {},
     "output_type": "display_data"
    },
    {
     "data": {
      "application/vnd.jupyter.widget-view+json": {
       "model_id": "cc66187626174470947d12e651b75533",
       "version_major": 2,
       "version_minor": 0
      },
      "text/plain": [
       "0epoch [00:00, ?epoch/s]"
      ]
     },
     "metadata": {},
     "output_type": "display_data"
    },
    {
     "data": {
      "application/vnd.jupyter.widget-view+json": {
       "model_id": "",
       "version_major": 2,
       "version_minor": 0
      },
      "text/plain": [
       "0batch [00:00, ?batch/s]"
      ]
     },
     "metadata": {},
     "output_type": "display_data"
    },
    {
     "data": {
      "application/vnd.jupyter.widget-view+json": {
       "model_id": "977be9678c464f9dbc7a3c3316870e72",
       "version_major": 2,
       "version_minor": 0
      },
      "text/plain": [
       "0epoch [00:00, ?epoch/s]"
      ]
     },
     "metadata": {},
     "output_type": "display_data"
    },
    {
     "data": {
      "application/vnd.jupyter.widget-view+json": {
       "model_id": "",
       "version_major": 2,
       "version_minor": 0
      },
      "text/plain": [
       "0batch [00:00, ?batch/s]"
      ]
     },
     "metadata": {},
     "output_type": "display_data"
    },
    {
     "data": {
      "application/vnd.jupyter.widget-view+json": {
       "model_id": "7391c591c07c44dda0da9d928f3249f3",
       "version_major": 2,
       "version_minor": 0
      },
      "text/plain": [
       "0epoch [00:00, ?epoch/s]"
      ]
     },
     "metadata": {},
     "output_type": "display_data"
    },
    {
     "data": {
      "application/vnd.jupyter.widget-view+json": {
       "model_id": "",
       "version_major": 2,
       "version_minor": 0
      },
      "text/plain": [
       "0batch [00:00, ?batch/s]"
      ]
     },
     "metadata": {},
     "output_type": "display_data"
    },
    {
     "name": "stdout",
     "output_type": "stream",
     "text": [
      "Round 7: Train Acc (avg): 0.6495751440525055, Val Acc (avg): 0.7075607180595398\n"
     ]
    },
    {
     "data": {
      "application/vnd.jupyter.widget-view+json": {
       "model_id": "b3121297e57942968b7296b8935683c8",
       "version_major": 2,
       "version_minor": 0
      },
      "text/plain": [
       "0epoch [00:00, ?epoch/s]"
      ]
     },
     "metadata": {},
     "output_type": "display_data"
    },
    {
     "data": {
      "application/vnd.jupyter.widget-view+json": {
       "model_id": "",
       "version_major": 2,
       "version_minor": 0
      },
      "text/plain": [
       "0batch [00:00, ?batch/s]"
      ]
     },
     "metadata": {},
     "output_type": "display_data"
    },
    {
     "data": {
      "application/vnd.jupyter.widget-view+json": {
       "model_id": "e613096bdfa245b2851af28fd214c4cd",
       "version_major": 2,
       "version_minor": 0
      },
      "text/plain": [
       "0epoch [00:00, ?epoch/s]"
      ]
     },
     "metadata": {},
     "output_type": "display_data"
    },
    {
     "data": {
      "application/vnd.jupyter.widget-view+json": {
       "model_id": "",
       "version_major": 2,
       "version_minor": 0
      },
      "text/plain": [
       "0batch [00:00, ?batch/s]"
      ]
     },
     "metadata": {},
     "output_type": "display_data"
    },
    {
     "data": {
      "application/vnd.jupyter.widget-view+json": {
       "model_id": "f1030e08dbb34c98b40224610af5d96b",
       "version_major": 2,
       "version_minor": 0
      },
      "text/plain": [
       "0epoch [00:00, ?epoch/s]"
      ]
     },
     "metadata": {},
     "output_type": "display_data"
    },
    {
     "data": {
      "application/vnd.jupyter.widget-view+json": {
       "model_id": "",
       "version_major": 2,
       "version_minor": 0
      },
      "text/plain": [
       "0batch [00:00, ?batch/s]"
      ]
     },
     "metadata": {},
     "output_type": "display_data"
    },
    {
     "data": {
      "application/vnd.jupyter.widget-view+json": {
       "model_id": "04bfd779044843b285e4972448398feb",
       "version_major": 2,
       "version_minor": 0
      },
      "text/plain": [
       "0epoch [00:00, ?epoch/s]"
      ]
     },
     "metadata": {},
     "output_type": "display_data"
    },
    {
     "data": {
      "application/vnd.jupyter.widget-view+json": {
       "model_id": "",
       "version_major": 2,
       "version_minor": 0
      },
      "text/plain": [
       "0batch [00:00, ?batch/s]"
      ]
     },
     "metadata": {},
     "output_type": "display_data"
    },
    {
     "data": {
      "application/vnd.jupyter.widget-view+json": {
       "model_id": "3dacea5073904123bfb51ec24df9f87a",
       "version_major": 2,
       "version_minor": 0
      },
      "text/plain": [
       "0epoch [00:00, ?epoch/s]"
      ]
     },
     "metadata": {},
     "output_type": "display_data"
    },
    {
     "data": {
      "application/vnd.jupyter.widget-view+json": {
       "model_id": "",
       "version_major": 2,
       "version_minor": 0
      },
      "text/plain": [
       "0batch [00:00, ?batch/s]"
      ]
     },
     "metadata": {},
     "output_type": "display_data"
    },
    {
     "name": "stdout",
     "output_type": "stream",
     "text": [
      "Round 8: Train Acc (avg): 0.7767449736595153, Val Acc (avg): 0.8056543588638305\n"
     ]
    },
    {
     "data": {
      "application/vnd.jupyter.widget-view+json": {
       "model_id": "5f2c50712dda489493e3c4fa51782575",
       "version_major": 2,
       "version_minor": 0
      },
      "text/plain": [
       "0epoch [00:00, ?epoch/s]"
      ]
     },
     "metadata": {},
     "output_type": "display_data"
    },
    {
     "data": {
      "application/vnd.jupyter.widget-view+json": {
       "model_id": "",
       "version_major": 2,
       "version_minor": 0
      },
      "text/plain": [
       "0batch [00:00, ?batch/s]"
      ]
     },
     "metadata": {},
     "output_type": "display_data"
    },
    {
     "data": {
      "application/vnd.jupyter.widget-view+json": {
       "model_id": "fa2cce6e04cd4c2fad6d24ade43ab116",
       "version_major": 2,
       "version_minor": 0
      },
      "text/plain": [
       "0epoch [00:00, ?epoch/s]"
      ]
     },
     "metadata": {},
     "output_type": "display_data"
    },
    {
     "data": {
      "application/vnd.jupyter.widget-view+json": {
       "model_id": "",
       "version_major": 2,
       "version_minor": 0
      },
      "text/plain": [
       "0batch [00:00, ?batch/s]"
      ]
     },
     "metadata": {},
     "output_type": "display_data"
    },
    {
     "data": {
      "application/vnd.jupyter.widget-view+json": {
       "model_id": "d8fc3e89fb6e45f1aa7f94bd30c4de22",
       "version_major": 2,
       "version_minor": 0
      },
      "text/plain": [
       "0epoch [00:00, ?epoch/s]"
      ]
     },
     "metadata": {},
     "output_type": "display_data"
    },
    {
     "data": {
      "application/vnd.jupyter.widget-view+json": {
       "model_id": "",
       "version_major": 2,
       "version_minor": 0
      },
      "text/plain": [
       "0batch [00:00, ?batch/s]"
      ]
     },
     "metadata": {},
     "output_type": "display_data"
    },
    {
     "data": {
      "application/vnd.jupyter.widget-view+json": {
       "model_id": "8d8f104321f6473598adf51744ec7172",
       "version_major": 2,
       "version_minor": 0
      },
      "text/plain": [
       "0epoch [00:00, ?epoch/s]"
      ]
     },
     "metadata": {},
     "output_type": "display_data"
    },
    {
     "data": {
      "application/vnd.jupyter.widget-view+json": {
       "model_id": "",
       "version_major": 2,
       "version_minor": 0
      },
      "text/plain": [
       "0batch [00:00, ?batch/s]"
      ]
     },
     "metadata": {},
     "output_type": "display_data"
    },
    {
     "data": {
      "application/vnd.jupyter.widget-view+json": {
       "model_id": "9c21680567c24f078b12248e71dcb853",
       "version_major": 2,
       "version_minor": 0
      },
      "text/plain": [
       "0epoch [00:00, ?epoch/s]"
      ]
     },
     "metadata": {},
     "output_type": "display_data"
    },
    {
     "data": {
      "application/vnd.jupyter.widget-view+json": {
       "model_id": "",
       "version_major": 2,
       "version_minor": 0
      },
      "text/plain": [
       "0batch [00:00, ?batch/s]"
      ]
     },
     "metadata": {},
     "output_type": "display_data"
    },
    {
     "name": "stdout",
     "output_type": "stream",
     "text": [
      "Round 9: Train Acc (avg): 0.7693074345588684, Val Acc (avg): 0.8219760775566101\n"
     ]
    },
    {
     "data": {
      "application/vnd.jupyter.widget-view+json": {
       "model_id": "b6620ee9970d4ad7a5828dab10b9c736",
       "version_major": 2,
       "version_minor": 0
      },
      "text/plain": [
       "0epoch [00:00, ?epoch/s]"
      ]
     },
     "metadata": {},
     "output_type": "display_data"
    },
    {
     "data": {
      "application/vnd.jupyter.widget-view+json": {
       "model_id": "",
       "version_major": 2,
       "version_minor": 0
      },
      "text/plain": [
       "0batch [00:00, ?batch/s]"
      ]
     },
     "metadata": {},
     "output_type": "display_data"
    },
    {
     "data": {
      "application/vnd.jupyter.widget-view+json": {
       "model_id": "8f84fc20375c43da86500ba2f70feef6",
       "version_major": 2,
       "version_minor": 0
      },
      "text/plain": [
       "0epoch [00:00, ?epoch/s]"
      ]
     },
     "metadata": {},
     "output_type": "display_data"
    },
    {
     "data": {
      "application/vnd.jupyter.widget-view+json": {
       "model_id": "",
       "version_major": 2,
       "version_minor": 0
      },
      "text/plain": [
       "0batch [00:00, ?batch/s]"
      ]
     },
     "metadata": {},
     "output_type": "display_data"
    },
    {
     "data": {
      "application/vnd.jupyter.widget-view+json": {
       "model_id": "8161a1bd338d487283e35671bd8642d7",
       "version_major": 2,
       "version_minor": 0
      },
      "text/plain": [
       "0epoch [00:00, ?epoch/s]"
      ]
     },
     "metadata": {},
     "output_type": "display_data"
    },
    {
     "data": {
      "application/vnd.jupyter.widget-view+json": {
       "model_id": "",
       "version_major": 2,
       "version_minor": 0
      },
      "text/plain": [
       "0batch [00:00, ?batch/s]"
      ]
     },
     "metadata": {},
     "output_type": "display_data"
    },
    {
     "data": {
      "application/vnd.jupyter.widget-view+json": {
       "model_id": "85832a98f525400a8f08c240d46624e5",
       "version_major": 2,
       "version_minor": 0
      },
      "text/plain": [
       "0epoch [00:00, ?epoch/s]"
      ]
     },
     "metadata": {},
     "output_type": "display_data"
    },
    {
     "data": {
      "application/vnd.jupyter.widget-view+json": {
       "model_id": "",
       "version_major": 2,
       "version_minor": 0
      },
      "text/plain": [
       "0batch [00:00, ?batch/s]"
      ]
     },
     "metadata": {},
     "output_type": "display_data"
    },
    {
     "data": {
      "application/vnd.jupyter.widget-view+json": {
       "model_id": "5861d4bded62431eb230facda3c9d638",
       "version_major": 2,
       "version_minor": 0
      },
      "text/plain": [
       "0epoch [00:00, ?epoch/s]"
      ]
     },
     "metadata": {},
     "output_type": "display_data"
    },
    {
     "data": {
      "application/vnd.jupyter.widget-view+json": {
       "model_id": "",
       "version_major": 2,
       "version_minor": 0
      },
      "text/plain": [
       "0batch [00:00, ?batch/s]"
      ]
     },
     "metadata": {},
     "output_type": "display_data"
    },
    {
     "name": "stdout",
     "output_type": "stream",
     "text": [
      "Round 10: Train Acc (avg): 0.7864487648010254, Val Acc (avg): 0.7532102704048157\n"
     ]
    },
    {
     "data": {
      "application/vnd.jupyter.widget-view+json": {
       "model_id": "045b2a3c65df4ca58fdd19c7ea4c46c4",
       "version_major": 2,
       "version_minor": 0
      },
      "text/plain": [
       "0epoch [00:00, ?epoch/s]"
      ]
     },
     "metadata": {},
     "output_type": "display_data"
    },
    {
     "data": {
      "application/vnd.jupyter.widget-view+json": {
       "model_id": "",
       "version_major": 2,
       "version_minor": 0
      },
      "text/plain": [
       "0batch [00:00, ?batch/s]"
      ]
     },
     "metadata": {},
     "output_type": "display_data"
    },
    {
     "data": {
      "application/vnd.jupyter.widget-view+json": {
       "model_id": "aacc3218291a4fef8a77665da9cd5c21",
       "version_major": 2,
       "version_minor": 0
      },
      "text/plain": [
       "0epoch [00:00, ?epoch/s]"
      ]
     },
     "metadata": {},
     "output_type": "display_data"
    },
    {
     "data": {
      "application/vnd.jupyter.widget-view+json": {
       "model_id": "",
       "version_major": 2,
       "version_minor": 0
      },
      "text/plain": [
       "0batch [00:00, ?batch/s]"
      ]
     },
     "metadata": {},
     "output_type": "display_data"
    },
    {
     "data": {
      "application/vnd.jupyter.widget-view+json": {
       "model_id": "8739cdc349b542e285323f6d7cf964f4",
       "version_major": 2,
       "version_minor": 0
      },
      "text/plain": [
       "0epoch [00:00, ?epoch/s]"
      ]
     },
     "metadata": {},
     "output_type": "display_data"
    },
    {
     "data": {
      "application/vnd.jupyter.widget-view+json": {
       "model_id": "",
       "version_major": 2,
       "version_minor": 0
      },
      "text/plain": [
       "0batch [00:00, ?batch/s]"
      ]
     },
     "metadata": {},
     "output_type": "display_data"
    },
    {
     "data": {
      "application/vnd.jupyter.widget-view+json": {
       "model_id": "0c657f13c3f845e3b46b574a9c8719c3",
       "version_major": 2,
       "version_minor": 0
      },
      "text/plain": [
       "0epoch [00:00, ?epoch/s]"
      ]
     },
     "metadata": {},
     "output_type": "display_data"
    },
    {
     "data": {
      "application/vnd.jupyter.widget-view+json": {
       "model_id": "",
       "version_major": 2,
       "version_minor": 0
      },
      "text/plain": [
       "0batch [00:00, ?batch/s]"
      ]
     },
     "metadata": {},
     "output_type": "display_data"
    },
    {
     "data": {
      "application/vnd.jupyter.widget-view+json": {
       "model_id": "113ab241608d4a20905d7829489bf9cd",
       "version_major": 2,
       "version_minor": 0
      },
      "text/plain": [
       "0epoch [00:00, ?epoch/s]"
      ]
     },
     "metadata": {},
     "output_type": "display_data"
    },
    {
     "data": {
      "application/vnd.jupyter.widget-view+json": {
       "model_id": "",
       "version_major": 2,
       "version_minor": 0
      },
      "text/plain": [
       "0batch [00:00, ?batch/s]"
      ]
     },
     "metadata": {},
     "output_type": "display_data"
    },
    {
     "name": "stdout",
     "output_type": "stream",
     "text": [
      "Round 11: Train Acc (avg): 0.8393730163574219, Val Acc (avg): 0.8393183708190918\n"
     ]
    },
    {
     "data": {
      "application/vnd.jupyter.widget-view+json": {
       "model_id": "7a4c22605e674130aa8d86058a67d06a",
       "version_major": 2,
       "version_minor": 0
      },
      "text/plain": [
       "0epoch [00:00, ?epoch/s]"
      ]
     },
     "metadata": {},
     "output_type": "display_data"
    },
    {
     "data": {
      "application/vnd.jupyter.widget-view+json": {
       "model_id": "",
       "version_major": 2,
       "version_minor": 0
      },
      "text/plain": [
       "0batch [00:00, ?batch/s]"
      ]
     },
     "metadata": {},
     "output_type": "display_data"
    },
    {
     "data": {
      "application/vnd.jupyter.widget-view+json": {
       "model_id": "0831cd4c788f42fd94b92ee2bcc08fe0",
       "version_major": 2,
       "version_minor": 0
      },
      "text/plain": [
       "0epoch [00:00, ?epoch/s]"
      ]
     },
     "metadata": {},
     "output_type": "display_data"
    },
    {
     "data": {
      "application/vnd.jupyter.widget-view+json": {
       "model_id": "",
       "version_major": 2,
       "version_minor": 0
      },
      "text/plain": [
       "0batch [00:00, ?batch/s]"
      ]
     },
     "metadata": {},
     "output_type": "display_data"
    },
    {
     "data": {
      "application/vnd.jupyter.widget-view+json": {
       "model_id": "760979d116cd4f73b28ae6e8de2c1ca5",
       "version_major": 2,
       "version_minor": 0
      },
      "text/plain": [
       "0epoch [00:00, ?epoch/s]"
      ]
     },
     "metadata": {},
     "output_type": "display_data"
    },
    {
     "data": {
      "application/vnd.jupyter.widget-view+json": {
       "model_id": "",
       "version_major": 2,
       "version_minor": 0
      },
      "text/plain": [
       "0batch [00:00, ?batch/s]"
      ]
     },
     "metadata": {},
     "output_type": "display_data"
    },
    {
     "data": {
      "application/vnd.jupyter.widget-view+json": {
       "model_id": "71b28a2165894fe880debe1748b5c8ce",
       "version_major": 2,
       "version_minor": 0
      },
      "text/plain": [
       "0epoch [00:00, ?epoch/s]"
      ]
     },
     "metadata": {},
     "output_type": "display_data"
    },
    {
     "data": {
      "application/vnd.jupyter.widget-view+json": {
       "model_id": "",
       "version_major": 2,
       "version_minor": 0
      },
      "text/plain": [
       "0batch [00:00, ?batch/s]"
      ]
     },
     "metadata": {},
     "output_type": "display_data"
    },
    {
     "data": {
      "application/vnd.jupyter.widget-view+json": {
       "model_id": "4e7540b2af2544e5af791d2800ebd979",
       "version_major": 2,
       "version_minor": 0
      },
      "text/plain": [
       "0epoch [00:00, ?epoch/s]"
      ]
     },
     "metadata": {},
     "output_type": "display_data"
    },
    {
     "data": {
      "application/vnd.jupyter.widget-view+json": {
       "model_id": "",
       "version_major": 2,
       "version_minor": 0
      },
      "text/plain": [
       "0batch [00:00, ?batch/s]"
      ]
     },
     "metadata": {},
     "output_type": "display_data"
    },
    {
     "name": "stdout",
     "output_type": "stream",
     "text": [
      "Round 12: Train Acc (avg): 0.7388055086135864, Val Acc (avg): 0.796026599407196\n"
     ]
    },
    {
     "data": {
      "application/vnd.jupyter.widget-view+json": {
       "model_id": "2360776942e844a9a68fc79b6d38e8fa",
       "version_major": 2,
       "version_minor": 0
      },
      "text/plain": [
       "0epoch [00:00, ?epoch/s]"
      ]
     },
     "metadata": {},
     "output_type": "display_data"
    },
    {
     "data": {
      "application/vnd.jupyter.widget-view+json": {
       "model_id": "",
       "version_major": 2,
       "version_minor": 0
      },
      "text/plain": [
       "0batch [00:00, ?batch/s]"
      ]
     },
     "metadata": {},
     "output_type": "display_data"
    },
    {
     "data": {
      "application/vnd.jupyter.widget-view+json": {
       "model_id": "252b236ece99490e82b60c5338a9509d",
       "version_major": 2,
       "version_minor": 0
      },
      "text/plain": [
       "0epoch [00:00, ?epoch/s]"
      ]
     },
     "metadata": {},
     "output_type": "display_data"
    },
    {
     "data": {
      "application/vnd.jupyter.widget-view+json": {
       "model_id": "",
       "version_major": 2,
       "version_minor": 0
      },
      "text/plain": [
       "0batch [00:00, ?batch/s]"
      ]
     },
     "metadata": {},
     "output_type": "display_data"
    },
    {
     "data": {
      "application/vnd.jupyter.widget-view+json": {
       "model_id": "1ea036d7ad9e4775a0c7453fe6285290",
       "version_major": 2,
       "version_minor": 0
      },
      "text/plain": [
       "0epoch [00:00, ?epoch/s]"
      ]
     },
     "metadata": {},
     "output_type": "display_data"
    },
    {
     "data": {
      "application/vnd.jupyter.widget-view+json": {
       "model_id": "",
       "version_major": 2,
       "version_minor": 0
      },
      "text/plain": [
       "0batch [00:00, ?batch/s]"
      ]
     },
     "metadata": {},
     "output_type": "display_data"
    },
    {
     "data": {
      "application/vnd.jupyter.widget-view+json": {
       "model_id": "4eb206a5a75949d485be3d77407a47bc",
       "version_major": 2,
       "version_minor": 0
      },
      "text/plain": [
       "0epoch [00:00, ?epoch/s]"
      ]
     },
     "metadata": {},
     "output_type": "display_data"
    },
    {
     "data": {
      "application/vnd.jupyter.widget-view+json": {
       "model_id": "",
       "version_major": 2,
       "version_minor": 0
      },
      "text/plain": [
       "0batch [00:00, ?batch/s]"
      ]
     },
     "metadata": {},
     "output_type": "display_data"
    },
    {
     "data": {
      "application/vnd.jupyter.widget-view+json": {
       "model_id": "b87992f69983476698e5d331af7fc9ed",
       "version_major": 2,
       "version_minor": 0
      },
      "text/plain": [
       "0epoch [00:00, ?epoch/s]"
      ]
     },
     "metadata": {},
     "output_type": "display_data"
    },
    {
     "data": {
      "application/vnd.jupyter.widget-view+json": {
       "model_id": "",
       "version_major": 2,
       "version_minor": 0
      },
      "text/plain": [
       "0batch [00:00, ?batch/s]"
      ]
     },
     "metadata": {},
     "output_type": "display_data"
    },
    {
     "name": "stdout",
     "output_type": "stream",
     "text": [
      "Round 13: Train Acc (avg): 0.8527176737785339, Val Acc (avg): 0.857476007938385\n"
     ]
    },
    {
     "data": {
      "application/vnd.jupyter.widget-view+json": {
       "model_id": "0bb9e990a081415fa4947b97dd38c6eb",
       "version_major": 2,
       "version_minor": 0
      },
      "text/plain": [
       "0epoch [00:00, ?epoch/s]"
      ]
     },
     "metadata": {},
     "output_type": "display_data"
    },
    {
     "data": {
      "application/vnd.jupyter.widget-view+json": {
       "model_id": "",
       "version_major": 2,
       "version_minor": 0
      },
      "text/plain": [
       "0batch [00:00, ?batch/s]"
      ]
     },
     "metadata": {},
     "output_type": "display_data"
    },
    {
     "data": {
      "application/vnd.jupyter.widget-view+json": {
       "model_id": "fcc3bebc5279418d934404e82307dc41",
       "version_major": 2,
       "version_minor": 0
      },
      "text/plain": [
       "0epoch [00:00, ?epoch/s]"
      ]
     },
     "metadata": {},
     "output_type": "display_data"
    },
    {
     "data": {
      "application/vnd.jupyter.widget-view+json": {
       "model_id": "",
       "version_major": 2,
       "version_minor": 0
      },
      "text/plain": [
       "0batch [00:00, ?batch/s]"
      ]
     },
     "metadata": {},
     "output_type": "display_data"
    },
    {
     "data": {
      "application/vnd.jupyter.widget-view+json": {
       "model_id": "7ed409df95994f2e818d962aac58ad66",
       "version_major": 2,
       "version_minor": 0
      },
      "text/plain": [
       "0epoch [00:00, ?epoch/s]"
      ]
     },
     "metadata": {},
     "output_type": "display_data"
    },
    {
     "data": {
      "application/vnd.jupyter.widget-view+json": {
       "model_id": "",
       "version_major": 2,
       "version_minor": 0
      },
      "text/plain": [
       "0batch [00:00, ?batch/s]"
      ]
     },
     "metadata": {},
     "output_type": "display_data"
    },
    {
     "data": {
      "application/vnd.jupyter.widget-view+json": {
       "model_id": "08d358db31744116a1a22f0458cc9390",
       "version_major": 2,
       "version_minor": 0
      },
      "text/plain": [
       "0epoch [00:00, ?epoch/s]"
      ]
     },
     "metadata": {},
     "output_type": "display_data"
    },
    {
     "data": {
      "application/vnd.jupyter.widget-view+json": {
       "model_id": "",
       "version_major": 2,
       "version_minor": 0
      },
      "text/plain": [
       "0batch [00:00, ?batch/s]"
      ]
     },
     "metadata": {},
     "output_type": "display_data"
    },
    {
     "data": {
      "application/vnd.jupyter.widget-view+json": {
       "model_id": "28d211c1393d4e3d99650d41132ffb5b",
       "version_major": 2,
       "version_minor": 0
      },
      "text/plain": [
       "0epoch [00:00, ?epoch/s]"
      ]
     },
     "metadata": {},
     "output_type": "display_data"
    },
    {
     "data": {
      "application/vnd.jupyter.widget-view+json": {
       "model_id": "",
       "version_major": 2,
       "version_minor": 0
      },
      "text/plain": [
       "0batch [00:00, ?batch/s]"
      ]
     },
     "metadata": {},
     "output_type": "display_data"
    },
    {
     "name": "stdout",
     "output_type": "stream",
     "text": [
      "Round 14: Train Acc (avg): 0.7863840222358703, Val Acc (avg): 0.8549023985862731\n"
     ]
    },
    {
     "data": {
      "application/vnd.jupyter.widget-view+json": {
       "model_id": "c4044e07137b40baae05179d41c3b813",
       "version_major": 2,
       "version_minor": 0
      },
      "text/plain": [
       "0epoch [00:00, ?epoch/s]"
      ]
     },
     "metadata": {},
     "output_type": "display_data"
    },
    {
     "data": {
      "application/vnd.jupyter.widget-view+json": {
       "model_id": "",
       "version_major": 2,
       "version_minor": 0
      },
      "text/plain": [
       "0batch [00:00, ?batch/s]"
      ]
     },
     "metadata": {},
     "output_type": "display_data"
    },
    {
     "data": {
      "application/vnd.jupyter.widget-view+json": {
       "model_id": "6b5815f9f57a463d926e5804cdb6d322",
       "version_major": 2,
       "version_minor": 0
      },
      "text/plain": [
       "0epoch [00:00, ?epoch/s]"
      ]
     },
     "metadata": {},
     "output_type": "display_data"
    },
    {
     "data": {
      "application/vnd.jupyter.widget-view+json": {
       "model_id": "",
       "version_major": 2,
       "version_minor": 0
      },
      "text/plain": [
       "0batch [00:00, ?batch/s]"
      ]
     },
     "metadata": {},
     "output_type": "display_data"
    },
    {
     "data": {
      "application/vnd.jupyter.widget-view+json": {
       "model_id": "296ced000d624db6a55876d67a21102e",
       "version_major": 2,
       "version_minor": 0
      },
      "text/plain": [
       "0epoch [00:00, ?epoch/s]"
      ]
     },
     "metadata": {},
     "output_type": "display_data"
    },
    {
     "data": {
      "application/vnd.jupyter.widget-view+json": {
       "model_id": "",
       "version_major": 2,
       "version_minor": 0
      },
      "text/plain": [
       "0batch [00:00, ?batch/s]"
      ]
     },
     "metadata": {},
     "output_type": "display_data"
    },
    {
     "data": {
      "application/vnd.jupyter.widget-view+json": {
       "model_id": "a91fef51df6b49af8020d4d32e5ed723",
       "version_major": 2,
       "version_minor": 0
      },
      "text/plain": [
       "0epoch [00:00, ?epoch/s]"
      ]
     },
     "metadata": {},
     "output_type": "display_data"
    },
    {
     "data": {
      "application/vnd.jupyter.widget-view+json": {
       "model_id": "",
       "version_major": 2,
       "version_minor": 0
      },
      "text/plain": [
       "0batch [00:00, ?batch/s]"
      ]
     },
     "metadata": {},
     "output_type": "display_data"
    },
    {
     "data": {
      "application/vnd.jupyter.widget-view+json": {
       "model_id": "fbbdcd59ab5a404a946ee607e28e1f61",
       "version_major": 2,
       "version_minor": 0
      },
      "text/plain": [
       "0epoch [00:00, ?epoch/s]"
      ]
     },
     "metadata": {},
     "output_type": "display_data"
    },
    {
     "data": {
      "application/vnd.jupyter.widget-view+json": {
       "model_id": "",
       "version_major": 2,
       "version_minor": 0
      },
      "text/plain": [
       "0batch [00:00, ?batch/s]"
      ]
     },
     "metadata": {},
     "output_type": "display_data"
    },
    {
     "name": "stdout",
     "output_type": "stream",
     "text": [
      "Round 15: Train Acc (avg): 0.7093639433383941, Val Acc (avg): 0.8301056504249573\n"
     ]
    },
    {
     "data": {
      "application/vnd.jupyter.widget-view+json": {
       "model_id": "a7c7c8ac34e34c94ab3e7f872eecd8c2",
       "version_major": 2,
       "version_minor": 0
      },
      "text/plain": [
       "0epoch [00:00, ?epoch/s]"
      ]
     },
     "metadata": {},
     "output_type": "display_data"
    },
    {
     "data": {
      "application/vnd.jupyter.widget-view+json": {
       "model_id": "",
       "version_major": 2,
       "version_minor": 0
      },
      "text/plain": [
       "0batch [00:00, ?batch/s]"
      ]
     },
     "metadata": {},
     "output_type": "display_data"
    },
    {
     "data": {
      "application/vnd.jupyter.widget-view+json": {
       "model_id": "165a980ecd6d4193af0ceb2c4cc0059a",
       "version_major": 2,
       "version_minor": 0
      },
      "text/plain": [
       "0epoch [00:00, ?epoch/s]"
      ]
     },
     "metadata": {},
     "output_type": "display_data"
    },
    {
     "data": {
      "application/vnd.jupyter.widget-view+json": {
       "model_id": "",
       "version_major": 2,
       "version_minor": 0
      },
      "text/plain": [
       "0batch [00:00, ?batch/s]"
      ]
     },
     "metadata": {},
     "output_type": "display_data"
    },
    {
     "data": {
      "application/vnd.jupyter.widget-view+json": {
       "model_id": "9d2725fd1fac47799563844f6279d8b3",
       "version_major": 2,
       "version_minor": 0
      },
      "text/plain": [
       "0epoch [00:00, ?epoch/s]"
      ]
     },
     "metadata": {},
     "output_type": "display_data"
    },
    {
     "data": {
      "application/vnd.jupyter.widget-view+json": {
       "model_id": "",
       "version_major": 2,
       "version_minor": 0
      },
      "text/plain": [
       "0batch [00:00, ?batch/s]"
      ]
     },
     "metadata": {},
     "output_type": "display_data"
    },
    {
     "data": {
      "application/vnd.jupyter.widget-view+json": {
       "model_id": "c63db32d1d874fe6912b839dc9a3dd6f",
       "version_major": 2,
       "version_minor": 0
      },
      "text/plain": [
       "0epoch [00:00, ?epoch/s]"
      ]
     },
     "metadata": {},
     "output_type": "display_data"
    },
    {
     "data": {
      "application/vnd.jupyter.widget-view+json": {
       "model_id": "",
       "version_major": 2,
       "version_minor": 0
      },
      "text/plain": [
       "0batch [00:00, ?batch/s]"
      ]
     },
     "metadata": {},
     "output_type": "display_data"
    },
    {
     "data": {
      "application/vnd.jupyter.widget-view+json": {
       "model_id": "194ab049c62a4825ba854ee90cac6e64",
       "version_major": 2,
       "version_minor": 0
      },
      "text/plain": [
       "0epoch [00:00, ?epoch/s]"
      ]
     },
     "metadata": {},
     "output_type": "display_data"
    },
    {
     "data": {
      "application/vnd.jupyter.widget-view+json": {
       "model_id": "",
       "version_major": 2,
       "version_minor": 0
      },
      "text/plain": [
       "0batch [00:00, ?batch/s]"
      ]
     },
     "metadata": {},
     "output_type": "display_data"
    },
    {
     "name": "stdout",
     "output_type": "stream",
     "text": [
      "Round 16: Train Acc (avg): 0.8428208827972412, Val Acc (avg): 0.8592282891273498\n"
     ]
    },
    {
     "data": {
      "application/vnd.jupyter.widget-view+json": {
       "model_id": "f592255baf5948eaa9c8060a8eb228de",
       "version_major": 2,
       "version_minor": 0
      },
      "text/plain": [
       "0epoch [00:00, ?epoch/s]"
      ]
     },
     "metadata": {},
     "output_type": "display_data"
    },
    {
     "data": {
      "application/vnd.jupyter.widget-view+json": {
       "model_id": "",
       "version_major": 2,
       "version_minor": 0
      },
      "text/plain": [
       "0batch [00:00, ?batch/s]"
      ]
     },
     "metadata": {},
     "output_type": "display_data"
    },
    {
     "data": {
      "application/vnd.jupyter.widget-view+json": {
       "model_id": "2f04d6f215de4080a0cf2b30cb5a06d3",
       "version_major": 2,
       "version_minor": 0
      },
      "text/plain": [
       "0epoch [00:00, ?epoch/s]"
      ]
     },
     "metadata": {},
     "output_type": "display_data"
    },
    {
     "data": {
      "application/vnd.jupyter.widget-view+json": {
       "model_id": "",
       "version_major": 2,
       "version_minor": 0
      },
      "text/plain": [
       "0batch [00:00, ?batch/s]"
      ]
     },
     "metadata": {},
     "output_type": "display_data"
    },
    {
     "data": {
      "application/vnd.jupyter.widget-view+json": {
       "model_id": "5b0b34e07d574b778d57a94b9b670b82",
       "version_major": 2,
       "version_minor": 0
      },
      "text/plain": [
       "0epoch [00:00, ?epoch/s]"
      ]
     },
     "metadata": {},
     "output_type": "display_data"
    },
    {
     "data": {
      "application/vnd.jupyter.widget-view+json": {
       "model_id": "",
       "version_major": 2,
       "version_minor": 0
      },
      "text/plain": [
       "0batch [00:00, ?batch/s]"
      ]
     },
     "metadata": {},
     "output_type": "display_data"
    },
    {
     "data": {
      "application/vnd.jupyter.widget-view+json": {
       "model_id": "55b89746b7f548b1ba3dd3720cead4e2",
       "version_major": 2,
       "version_minor": 0
      },
      "text/plain": [
       "0epoch [00:00, ?epoch/s]"
      ]
     },
     "metadata": {},
     "output_type": "display_data"
    },
    {
     "data": {
      "application/vnd.jupyter.widget-view+json": {
       "model_id": "",
       "version_major": 2,
       "version_minor": 0
      },
      "text/plain": [
       "0batch [00:00, ?batch/s]"
      ]
     },
     "metadata": {},
     "output_type": "display_data"
    },
    {
     "data": {
      "application/vnd.jupyter.widget-view+json": {
       "model_id": "4e6549c39e57431ba329b302f84155e1",
       "version_major": 2,
       "version_minor": 0
      },
      "text/plain": [
       "0epoch [00:00, ?epoch/s]"
      ]
     },
     "metadata": {},
     "output_type": "display_data"
    },
    {
     "data": {
      "application/vnd.jupyter.widget-view+json": {
       "model_id": "",
       "version_major": 2,
       "version_minor": 0
      },
      "text/plain": [
       "0batch [00:00, ?batch/s]"
      ]
     },
     "metadata": {},
     "output_type": "display_data"
    },
    {
     "name": "stdout",
     "output_type": "stream",
     "text": [
      "Round 17: Train Acc (avg): 0.8234189271926879, Val Acc (avg): 0.8606400728225708\n"
     ]
    },
    {
     "data": {
      "application/vnd.jupyter.widget-view+json": {
       "model_id": "0b730c470e9744998b4701585a6cd399",
       "version_major": 2,
       "version_minor": 0
      },
      "text/plain": [
       "0epoch [00:00, ?epoch/s]"
      ]
     },
     "metadata": {},
     "output_type": "display_data"
    },
    {
     "data": {
      "application/vnd.jupyter.widget-view+json": {
       "model_id": "",
       "version_major": 2,
       "version_minor": 0
      },
      "text/plain": [
       "0batch [00:00, ?batch/s]"
      ]
     },
     "metadata": {},
     "output_type": "display_data"
    },
    {
     "data": {
      "application/vnd.jupyter.widget-view+json": {
       "model_id": "9829b666468d4f848c8a7e868b69d1c4",
       "version_major": 2,
       "version_minor": 0
      },
      "text/plain": [
       "0epoch [00:00, ?epoch/s]"
      ]
     },
     "metadata": {},
     "output_type": "display_data"
    },
    {
     "data": {
      "application/vnd.jupyter.widget-view+json": {
       "model_id": "",
       "version_major": 2,
       "version_minor": 0
      },
      "text/plain": [
       "0batch [00:00, ?batch/s]"
      ]
     },
     "metadata": {},
     "output_type": "display_data"
    },
    {
     "data": {
      "application/vnd.jupyter.widget-view+json": {
       "model_id": "e027427044f64232a0289e8cf99b5e70",
       "version_major": 2,
       "version_minor": 0
      },
      "text/plain": [
       "0epoch [00:00, ?epoch/s]"
      ]
     },
     "metadata": {},
     "output_type": "display_data"
    },
    {
     "data": {
      "application/vnd.jupyter.widget-view+json": {
       "model_id": "",
       "version_major": 2,
       "version_minor": 0
      },
      "text/plain": [
       "0batch [00:00, ?batch/s]"
      ]
     },
     "metadata": {},
     "output_type": "display_data"
    },
    {
     "data": {
      "application/vnd.jupyter.widget-view+json": {
       "model_id": "10ab3e9f573e49f1afbaca1275a9e539",
       "version_major": 2,
       "version_minor": 0
      },
      "text/plain": [
       "0epoch [00:00, ?epoch/s]"
      ]
     },
     "metadata": {},
     "output_type": "display_data"
    },
    {
     "data": {
      "application/vnd.jupyter.widget-view+json": {
       "model_id": "",
       "version_major": 2,
       "version_minor": 0
      },
      "text/plain": [
       "0batch [00:00, ?batch/s]"
      ]
     },
     "metadata": {},
     "output_type": "display_data"
    },
    {
     "data": {
      "application/vnd.jupyter.widget-view+json": {
       "model_id": "803c02c7c627467ba8d5b9515123b339",
       "version_major": 2,
       "version_minor": 0
      },
      "text/plain": [
       "0epoch [00:00, ?epoch/s]"
      ]
     },
     "metadata": {},
     "output_type": "display_data"
    },
    {
     "data": {
      "application/vnd.jupyter.widget-view+json": {
       "model_id": "",
       "version_major": 2,
       "version_minor": 0
      },
      "text/plain": [
       "0batch [00:00, ?batch/s]"
      ]
     },
     "metadata": {},
     "output_type": "display_data"
    },
    {
     "name": "stdout",
     "output_type": "stream",
     "text": [
      "Round 18: Train Acc (avg): 0.8441444993019104, Val Acc (avg): 0.8879719614982605\n"
     ]
    },
    {
     "data": {
      "application/vnd.jupyter.widget-view+json": {
       "model_id": "bd38318b29b64b9aa0f758df897f27cf",
       "version_major": 2,
       "version_minor": 0
      },
      "text/plain": [
       "0epoch [00:00, ?epoch/s]"
      ]
     },
     "metadata": {},
     "output_type": "display_data"
    },
    {
     "data": {
      "application/vnd.jupyter.widget-view+json": {
       "model_id": "",
       "version_major": 2,
       "version_minor": 0
      },
      "text/plain": [
       "0batch [00:00, ?batch/s]"
      ]
     },
     "metadata": {},
     "output_type": "display_data"
    },
    {
     "data": {
      "application/vnd.jupyter.widget-view+json": {
       "model_id": "b1159137d1f94edeae274d000fd72774",
       "version_major": 2,
       "version_minor": 0
      },
      "text/plain": [
       "0epoch [00:00, ?epoch/s]"
      ]
     },
     "metadata": {},
     "output_type": "display_data"
    },
    {
     "data": {
      "application/vnd.jupyter.widget-view+json": {
       "model_id": "",
       "version_major": 2,
       "version_minor": 0
      },
      "text/plain": [
       "0batch [00:00, ?batch/s]"
      ]
     },
     "metadata": {},
     "output_type": "display_data"
    },
    {
     "data": {
      "application/vnd.jupyter.widget-view+json": {
       "model_id": "006ba4d4c158478799140dc89f46b60c",
       "version_major": 2,
       "version_minor": 0
      },
      "text/plain": [
       "0epoch [00:00, ?epoch/s]"
      ]
     },
     "metadata": {},
     "output_type": "display_data"
    },
    {
     "data": {
      "application/vnd.jupyter.widget-view+json": {
       "model_id": "",
       "version_major": 2,
       "version_minor": 0
      },
      "text/plain": [
       "0batch [00:00, ?batch/s]"
      ]
     },
     "metadata": {},
     "output_type": "display_data"
    },
    {
     "data": {
      "application/vnd.jupyter.widget-view+json": {
       "model_id": "68f2f7ca7d5e4fcc854b780404bd1638",
       "version_major": 2,
       "version_minor": 0
      },
      "text/plain": [
       "0epoch [00:00, ?epoch/s]"
      ]
     },
     "metadata": {},
     "output_type": "display_data"
    },
    {
     "data": {
      "application/vnd.jupyter.widget-view+json": {
       "model_id": "",
       "version_major": 2,
       "version_minor": 0
      },
      "text/plain": [
       "0batch [00:00, ?batch/s]"
      ]
     },
     "metadata": {},
     "output_type": "display_data"
    },
    {
     "data": {
      "application/vnd.jupyter.widget-view+json": {
       "model_id": "0c9c9b8efda9426eaaf1cb377ef31764",
       "version_major": 2,
       "version_minor": 0
      },
      "text/plain": [
       "0epoch [00:00, ?epoch/s]"
      ]
     },
     "metadata": {},
     "output_type": "display_data"
    },
    {
     "data": {
      "application/vnd.jupyter.widget-view+json": {
       "model_id": "",
       "version_major": 2,
       "version_minor": 0
      },
      "text/plain": [
       "0batch [00:00, ?batch/s]"
      ]
     },
     "metadata": {},
     "output_type": "display_data"
    },
    {
     "name": "stdout",
     "output_type": "stream",
     "text": [
      "Round 19: Train Acc (avg): 0.8789278030395508, Val Acc (avg): 0.8899562239646912\n"
     ]
    },
    {
     "data": {
      "application/vnd.jupyter.widget-view+json": {
       "model_id": "8611f56ed4cf411a929f33e3bcba2881",
       "version_major": 2,
       "version_minor": 0
      },
      "text/plain": [
       "0epoch [00:00, ?epoch/s]"
      ]
     },
     "metadata": {},
     "output_type": "display_data"
    },
    {
     "data": {
      "application/vnd.jupyter.widget-view+json": {
       "model_id": "",
       "version_major": 2,
       "version_minor": 0
      },
      "text/plain": [
       "0batch [00:00, ?batch/s]"
      ]
     },
     "metadata": {},
     "output_type": "display_data"
    },
    {
     "data": {
      "application/vnd.jupyter.widget-view+json": {
       "model_id": "341d3f6fba1341a7a5f4d3fcc5ef8362",
       "version_major": 2,
       "version_minor": 0
      },
      "text/plain": [
       "0epoch [00:00, ?epoch/s]"
      ]
     },
     "metadata": {},
     "output_type": "display_data"
    },
    {
     "data": {
      "application/vnd.jupyter.widget-view+json": {
       "model_id": "",
       "version_major": 2,
       "version_minor": 0
      },
      "text/plain": [
       "0batch [00:00, ?batch/s]"
      ]
     },
     "metadata": {},
     "output_type": "display_data"
    },
    {
     "data": {
      "application/vnd.jupyter.widget-view+json": {
       "model_id": "de4655f886a14d72a570be1ee6562fa9",
       "version_major": 2,
       "version_minor": 0
      },
      "text/plain": [
       "0epoch [00:00, ?epoch/s]"
      ]
     },
     "metadata": {},
     "output_type": "display_data"
    },
    {
     "data": {
      "application/vnd.jupyter.widget-view+json": {
       "model_id": "",
       "version_major": 2,
       "version_minor": 0
      },
      "text/plain": [
       "0batch [00:00, ?batch/s]"
      ]
     },
     "metadata": {},
     "output_type": "display_data"
    },
    {
     "data": {
      "application/vnd.jupyter.widget-view+json": {
       "model_id": "3446ac58db154421a69c980e1e371c86",
       "version_major": 2,
       "version_minor": 0
      },
      "text/plain": [
       "0epoch [00:00, ?epoch/s]"
      ]
     },
     "metadata": {},
     "output_type": "display_data"
    },
    {
     "data": {
      "application/vnd.jupyter.widget-view+json": {
       "model_id": "",
       "version_major": 2,
       "version_minor": 0
      },
      "text/plain": [
       "0batch [00:00, ?batch/s]"
      ]
     },
     "metadata": {},
     "output_type": "display_data"
    },
    {
     "data": {
      "application/vnd.jupyter.widget-view+json": {
       "model_id": "4b55507d0d334460a445e330f7ad64a2",
       "version_major": 2,
       "version_minor": 0
      },
      "text/plain": [
       "0epoch [00:00, ?epoch/s]"
      ]
     },
     "metadata": {},
     "output_type": "display_data"
    },
    {
     "data": {
      "application/vnd.jupyter.widget-view+json": {
       "model_id": "",
       "version_major": 2,
       "version_minor": 0
      },
      "text/plain": [
       "0batch [00:00, ?batch/s]"
      ]
     },
     "metadata": {},
     "output_type": "display_data"
    },
    {
     "name": "stdout",
     "output_type": "stream",
     "text": [
      "Round 20: Train Acc (avg): 0.8975979804992675, Val Acc (avg): 0.8912460446357727\n"
     ]
    },
    {
     "data": {
      "application/vnd.jupyter.widget-view+json": {
       "model_id": "e494e29989a64806aaa8d50fbc3a0735",
       "version_major": 2,
       "version_minor": 0
      },
      "text/plain": [
       "0epoch [00:00, ?epoch/s]"
      ]
     },
     "metadata": {},
     "output_type": "display_data"
    },
    {
     "data": {
      "application/vnd.jupyter.widget-view+json": {
       "model_id": "",
       "version_major": 2,
       "version_minor": 0
      },
      "text/plain": [
       "0batch [00:00, ?batch/s]"
      ]
     },
     "metadata": {},
     "output_type": "display_data"
    },
    {
     "data": {
      "application/vnd.jupyter.widget-view+json": {
       "model_id": "e7024469c58a4772b8c18d96e07e88ef",
       "version_major": 2,
       "version_minor": 0
      },
      "text/plain": [
       "0epoch [00:00, ?epoch/s]"
      ]
     },
     "metadata": {},
     "output_type": "display_data"
    },
    {
     "data": {
      "application/vnd.jupyter.widget-view+json": {
       "model_id": "",
       "version_major": 2,
       "version_minor": 0
      },
      "text/plain": [
       "0batch [00:00, ?batch/s]"
      ]
     },
     "metadata": {},
     "output_type": "display_data"
    },
    {
     "data": {
      "application/vnd.jupyter.widget-view+json": {
       "model_id": "d1344e5f45a44a64b49aaed89caf9e89",
       "version_major": 2,
       "version_minor": 0
      },
      "text/plain": [
       "0epoch [00:00, ?epoch/s]"
      ]
     },
     "metadata": {},
     "output_type": "display_data"
    },
    {
     "data": {
      "application/vnd.jupyter.widget-view+json": {
       "model_id": "",
       "version_major": 2,
       "version_minor": 0
      },
      "text/plain": [
       "0batch [00:00, ?batch/s]"
      ]
     },
     "metadata": {},
     "output_type": "display_data"
    },
    {
     "data": {
      "application/vnd.jupyter.widget-view+json": {
       "model_id": "ee87ec10894843e987f5c63385c52e0d",
       "version_major": 2,
       "version_minor": 0
      },
      "text/plain": [
       "0epoch [00:00, ?epoch/s]"
      ]
     },
     "metadata": {},
     "output_type": "display_data"
    },
    {
     "data": {
      "application/vnd.jupyter.widget-view+json": {
       "model_id": "",
       "version_major": 2,
       "version_minor": 0
      },
      "text/plain": [
       "0batch [00:00, ?batch/s]"
      ]
     },
     "metadata": {},
     "output_type": "display_data"
    },
    {
     "data": {
      "application/vnd.jupyter.widget-view+json": {
       "model_id": "56ee8c08248e4e3d8ea9e7eb21c23535",
       "version_major": 2,
       "version_minor": 0
      },
      "text/plain": [
       "0epoch [00:00, ?epoch/s]"
      ]
     },
     "metadata": {},
     "output_type": "display_data"
    },
    {
     "data": {
      "application/vnd.jupyter.widget-view+json": {
       "model_id": "",
       "version_major": 2,
       "version_minor": 0
      },
      "text/plain": [
       "0batch [00:00, ?batch/s]"
      ]
     },
     "metadata": {},
     "output_type": "display_data"
    },
    {
     "name": "stdout",
     "output_type": "stream",
     "text": [
      "Round 21: Train Acc (avg): 0.897884464263916, Val Acc (avg): 0.891866147518158\n"
     ]
    },
    {
     "data": {
      "application/vnd.jupyter.widget-view+json": {
       "model_id": "29fbe3a7f11b4eeea966c2e082464172",
       "version_major": 2,
       "version_minor": 0
      },
      "text/plain": [
       "0epoch [00:00, ?epoch/s]"
      ]
     },
     "metadata": {},
     "output_type": "display_data"
    },
    {
     "data": {
      "application/vnd.jupyter.widget-view+json": {
       "model_id": "",
       "version_major": 2,
       "version_minor": 0
      },
      "text/plain": [
       "0batch [00:00, ?batch/s]"
      ]
     },
     "metadata": {},
     "output_type": "display_data"
    },
    {
     "data": {
      "application/vnd.jupyter.widget-view+json": {
       "model_id": "97eb24efe31643e19ff2518e0e3a4bd9",
       "version_major": 2,
       "version_minor": 0
      },
      "text/plain": [
       "0epoch [00:00, ?epoch/s]"
      ]
     },
     "metadata": {},
     "output_type": "display_data"
    },
    {
     "data": {
      "application/vnd.jupyter.widget-view+json": {
       "model_id": "",
       "version_major": 2,
       "version_minor": 0
      },
      "text/plain": [
       "0batch [00:00, ?batch/s]"
      ]
     },
     "metadata": {},
     "output_type": "display_data"
    },
    {
     "data": {
      "application/vnd.jupyter.widget-view+json": {
       "model_id": "e5891107b40941a8ba7feebd9e895b46",
       "version_major": 2,
       "version_minor": 0
      },
      "text/plain": [
       "0epoch [00:00, ?epoch/s]"
      ]
     },
     "metadata": {},
     "output_type": "display_data"
    },
    {
     "data": {
      "application/vnd.jupyter.widget-view+json": {
       "model_id": "",
       "version_major": 2,
       "version_minor": 0
      },
      "text/plain": [
       "0batch [00:00, ?batch/s]"
      ]
     },
     "metadata": {},
     "output_type": "display_data"
    },
    {
     "data": {
      "application/vnd.jupyter.widget-view+json": {
       "model_id": "723b072f32a04df7be08847d5cb012aa",
       "version_major": 2,
       "version_minor": 0
      },
      "text/plain": [
       "0epoch [00:00, ?epoch/s]"
      ]
     },
     "metadata": {},
     "output_type": "display_data"
    },
    {
     "data": {
      "application/vnd.jupyter.widget-view+json": {
       "model_id": "",
       "version_major": 2,
       "version_minor": 0
      },
      "text/plain": [
       "0batch [00:00, ?batch/s]"
      ]
     },
     "metadata": {},
     "output_type": "display_data"
    },
    {
     "data": {
      "application/vnd.jupyter.widget-view+json": {
       "model_id": "8667bf4f34b04bffb7bc4d42f3b7b634",
       "version_major": 2,
       "version_minor": 0
      },
      "text/plain": [
       "0epoch [00:00, ?epoch/s]"
      ]
     },
     "metadata": {},
     "output_type": "display_data"
    },
    {
     "data": {
      "application/vnd.jupyter.widget-view+json": {
       "model_id": "",
       "version_major": 2,
       "version_minor": 0
      },
      "text/plain": [
       "0batch [00:00, ?batch/s]"
      ]
     },
     "metadata": {},
     "output_type": "display_data"
    },
    {
     "name": "stdout",
     "output_type": "stream",
     "text": [
      "Round 22: Train Acc (avg): 0.869050669670105, Val Acc (avg): 0.8887857556343078\n"
     ]
    },
    {
     "data": {
      "application/vnd.jupyter.widget-view+json": {
       "model_id": "d3892b1295b04150b356ce58a7475776",
       "version_major": 2,
       "version_minor": 0
      },
      "text/plain": [
       "0epoch [00:00, ?epoch/s]"
      ]
     },
     "metadata": {},
     "output_type": "display_data"
    },
    {
     "data": {
      "application/vnd.jupyter.widget-view+json": {
       "model_id": "",
       "version_major": 2,
       "version_minor": 0
      },
      "text/plain": [
       "0batch [00:00, ?batch/s]"
      ]
     },
     "metadata": {},
     "output_type": "display_data"
    },
    {
     "ename": "OSError",
     "evalue": "20971520 requested and 0 written",
     "output_type": "error",
     "traceback": [
      "\u001b[0;31m---------------------------------------------------------------------------\u001b[0m",
      "\u001b[0;31mOSError\u001b[0m                                   Traceback (most recent call last)",
      "Cell \u001b[0;32mIn[25], line 4\u001b[0m\n\u001b[1;32m      2\u001b[0m num_experiments \u001b[38;5;241m=\u001b[39m \u001b[38;5;241m1\u001b[39m\n\u001b[1;32m      3\u001b[0m num_rounds \u001b[38;5;241m=\u001b[39m \u001b[38;5;241m40\u001b[39m\n\u001b[0;32m----> 4\u001b[0m experiment_results \u001b[38;5;241m=\u001b[39m \u001b[43mrun_multiple_experiments\u001b[49m\u001b[43m(\u001b[49m\u001b[43mnum_experiments\u001b[49m\u001b[43m,\u001b[49m\u001b[43m \u001b[49m\u001b[43mnum_rounds\u001b[49m\u001b[43m,\u001b[49m\u001b[43m \u001b[49m\u001b[43mclient_data\u001b[49m\u001b[43m,\u001b[49m\u001b[43m \u001b[49m\u001b[43mglobal_model\u001b[49m\u001b[43m,\u001b[49m\u001b[43m \u001b[49m\n\u001b[1;32m      5\u001b[0m \u001b[43m                                              \u001b[49m\u001b[43mnum_clients\u001b[49m\u001b[38;5;241;43m=\u001b[39;49m\u001b[38;5;241;43m5\u001b[39;49m\u001b[43m,\u001b[49m\u001b[43m \u001b[49m\u001b[43mneighbors_dict\u001b[49m\u001b[38;5;241;43m=\u001b[39;49m\u001b[43mneighbors_dict\u001b[49m\u001b[43m,\u001b[49m\u001b[43m \u001b[49m\u001b[43mweight_strategy\u001b[49m\u001b[38;5;241;43m=\u001b[39;49m\u001b[38;5;124;43m'\u001b[39;49m\u001b[38;5;124;43mequal\u001b[39;49m\u001b[38;5;124;43m'\u001b[39;49m\u001b[43m,\u001b[49m\n\u001b[1;32m      6\u001b[0m \u001b[43m                                              \u001b[49m\u001b[43mfile_format\u001b[49m\u001b[38;5;241;43m=\u001b[39;49m\u001b[38;5;124;43m'\u001b[39;49m\u001b[38;5;124;43mjson\u001b[39;49m\u001b[38;5;124;43m'\u001b[39;49m\u001b[43m,\u001b[49m\u001b[43m \u001b[49m\u001b[43mfilename\u001b[49m\u001b[38;5;241;43m=\u001b[39;49m\u001b[38;5;124;43m'\u001b[39;49m\u001b[38;5;124;43mexperiment_results\u001b[39;49m\u001b[38;5;124;43m'\u001b[39;49m\u001b[43m)\u001b[49m\n",
      "Cell \u001b[0;32mIn[23], line 28\u001b[0m, in \u001b[0;36mrun_multiple_experiments\u001b[0;34m(num_experiments, num_rounds, client_data, initial_model, num_clients, neighbors_dict, weight_strategy, file_format, filename)\u001b[0m\n\u001b[1;32m     25\u001b[0m client_data_sizes \u001b[38;5;241m=\u001b[39m [\u001b[38;5;28mlen\u001b[39m(data[\u001b[38;5;241m0\u001b[39m]) \u001b[38;5;28;01mfor\u001b[39;00m data \u001b[38;5;129;01min\u001b[39;00m client_data]  \u001b[38;5;66;03m# Calculate client data sizes\u001b[39;00m\n\u001b[1;32m     27\u001b[0m \u001b[38;5;66;03m# Perform the experiment\u001b[39;00m\n\u001b[0;32m---> 28\u001b[0m insights \u001b[38;5;241m=\u001b[39m \u001b[43mdecentralized_federated_learning\u001b[49m\u001b[43m(\u001b[49m\u001b[43mNUM_ROUNDS\u001b[49m\u001b[38;5;241;43m=\u001b[39;49m\u001b[43mnum_rounds\u001b[49m\u001b[43m,\u001b[49m\u001b[43m \u001b[49m\u001b[43mclient_data\u001b[49m\u001b[38;5;241;43m=\u001b[39;49m\u001b[43mclient_data\u001b[49m\u001b[43m,\u001b[49m\u001b[43m \u001b[49m\n\u001b[1;32m     29\u001b[0m \u001b[43m                                            \u001b[49m\u001b[43minitial_model\u001b[49m\u001b[38;5;241;43m=\u001b[39;49m\u001b[43minitial_model\u001b[49m\u001b[43m,\u001b[49m\u001b[43m \u001b[49m\u001b[43mnum_clients\u001b[49m\u001b[38;5;241;43m=\u001b[39;49m\u001b[43mnum_clients\u001b[49m\u001b[43m,\u001b[49m\u001b[43m \u001b[49m\n\u001b[1;32m     30\u001b[0m \u001b[43m                                            \u001b[49m\u001b[43mneighbors_dict\u001b[49m\u001b[38;5;241;43m=\u001b[39;49m\u001b[43mneighbors_dict\u001b[49m\u001b[43m,\u001b[49m\u001b[43m \u001b[49m\u001b[43mweight_strategy\u001b[49m\u001b[38;5;241;43m=\u001b[39;49m\u001b[43mweight_strategy\u001b[49m\u001b[43m,\u001b[49m\u001b[43m \u001b[49m\n\u001b[1;32m     31\u001b[0m \u001b[43m                                            \u001b[49m\u001b[43mclient_data_sizes\u001b[49m\u001b[38;5;241;43m=\u001b[39;49m\u001b[43mclient_data_sizes\u001b[49m\u001b[43m)\u001b[49m\n\u001b[1;32m     33\u001b[0m \u001b[38;5;66;03m# Collect the insights from this run\u001b[39;00m\n\u001b[1;32m     34\u001b[0m results\u001b[38;5;241m.\u001b[39mappend({\n\u001b[1;32m     35\u001b[0m     \u001b[38;5;124m\"\u001b[39m\u001b[38;5;124mexperiment\u001b[39m\u001b[38;5;124m\"\u001b[39m: exp_num \u001b[38;5;241m+\u001b[39m \u001b[38;5;241m1\u001b[39m,\n\u001b[1;32m     36\u001b[0m     \u001b[38;5;124m\"\u001b[39m\u001b[38;5;124mtrain_acc\u001b[39m\u001b[38;5;124m\"\u001b[39m: insights[\u001b[38;5;124m\"\u001b[39m\u001b[38;5;124mtrain_acc\u001b[39m\u001b[38;5;124m\"\u001b[39m],\n\u001b[0;32m   (...)\u001b[0m\n\u001b[1;32m     39\u001b[0m     \u001b[38;5;124m\"\u001b[39m\u001b[38;5;124mclient_communication\u001b[39m\u001b[38;5;124m\"\u001b[39m: insights[\u001b[38;5;124m\"\u001b[39m\u001b[38;5;124mclient_communication\u001b[39m\u001b[38;5;124m\"\u001b[39m]\n\u001b[1;32m     40\u001b[0m })\n",
      "Cell \u001b[0;32mIn[21], line 159\u001b[0m, in \u001b[0;36mdecentralized_federated_learning\u001b[0;34m(NUM_ROUNDS, client_data, initial_model, num_clients, neighbors_dict, weight_strategy, client_data_sizes, client_performances)\u001b[0m\n\u001b[1;32m    157\u001b[0m     \u001b[38;5;66;03m# Save the local model and datasets after training\u001b[39;00m\n\u001b[1;32m    158\u001b[0m     X_train, y_train \u001b[38;5;241m=\u001b[39m client_data[i]\n\u001b[0;32m--> 159\u001b[0m     \u001b[43msave_model_and_data\u001b[49m\u001b[43m(\u001b[49m\u001b[43mlocal_models\u001b[49m\u001b[43m[\u001b[49m\u001b[43mi\u001b[49m\u001b[43m]\u001b[49m\u001b[43m,\u001b[49m\u001b[43m \u001b[49m\u001b[43mi\u001b[49m\u001b[43m,\u001b[49m\u001b[43m \u001b[49m\u001b[43mround_num\u001b[49m\u001b[43m,\u001b[49m\u001b[43m \u001b[49m\u001b[43mX_train\u001b[49m\u001b[43m,\u001b[49m\u001b[43m \u001b[49m\u001b[43my_train\u001b[49m\u001b[43m,\u001b[49m\u001b[43m \u001b[49m\u001b[43mX_train\u001b[49m\u001b[43m,\u001b[49m\u001b[43m \u001b[49m\u001b[43my_train\u001b[49m\u001b[43m)\u001b[49m\n\u001b[1;32m    161\u001b[0m insights[\u001b[38;5;124m\"\u001b[39m\u001b[38;5;124mtrain_acc\u001b[39m\u001b[38;5;124m\"\u001b[39m]\u001b[38;5;241m.\u001b[39mappend(round_train_acc)\n\u001b[1;32m    163\u001b[0m \u001b[38;5;66;03m# Decentralized model merging and model divergence tracking\u001b[39;00m\n",
      "Cell \u001b[0;32mIn[20], line 22\u001b[0m, in \u001b[0;36msave_model_and_data\u001b[0;34m(model, client_id, round_num, x_train, y_train, x_val, y_val)\u001b[0m\n\u001b[1;32m     20\u001b[0m \u001b[38;5;28;01mif\u001b[39;00m round_num \u001b[38;5;241m>\u001b[39m \u001b[38;5;241m18\u001b[39m:\n\u001b[1;32m     21\u001b[0m     np\u001b[38;5;241m.\u001b[39msave(\u001b[38;5;124mf\u001b[39m\u001b[38;5;124m'\u001b[39m\u001b[38;5;124m./saved_datasets/client_\u001b[39m\u001b[38;5;132;01m{\u001b[39;00mclient_id\u001b[38;5;132;01m}\u001b[39;00m\u001b[38;5;124m_round_\u001b[39m\u001b[38;5;132;01m{\u001b[39;00mround_num\u001b[38;5;132;01m}\u001b[39;00m\u001b[38;5;124m_x_train.npy\u001b[39m\u001b[38;5;124m'\u001b[39m, x_train)\n\u001b[0;32m---> 22\u001b[0m     \u001b[43mnp\u001b[49m\u001b[38;5;241;43m.\u001b[39;49m\u001b[43msave\u001b[49m\u001b[43m(\u001b[49m\u001b[38;5;124;43mf\u001b[39;49m\u001b[38;5;124;43m'\u001b[39;49m\u001b[38;5;124;43m./saved_datasets/client_\u001b[39;49m\u001b[38;5;132;43;01m{\u001b[39;49;00m\u001b[43mclient_id\u001b[49m\u001b[38;5;132;43;01m}\u001b[39;49;00m\u001b[38;5;124;43m_round_\u001b[39;49m\u001b[38;5;132;43;01m{\u001b[39;49;00m\u001b[43mround_num\u001b[49m\u001b[38;5;132;43;01m}\u001b[39;49;00m\u001b[38;5;124;43m_y_train.npy\u001b[39;49m\u001b[38;5;124;43m'\u001b[39;49m\u001b[43m,\u001b[49m\u001b[43m \u001b[49m\u001b[43my_train\u001b[49m\u001b[43m)\u001b[49m\n\u001b[1;32m     23\u001b[0m     np\u001b[38;5;241m.\u001b[39msave(\u001b[38;5;124mf\u001b[39m\u001b[38;5;124m'\u001b[39m\u001b[38;5;124m./saved_datasets/client_\u001b[39m\u001b[38;5;132;01m{\u001b[39;00mclient_id\u001b[38;5;132;01m}\u001b[39;00m\u001b[38;5;124m_round_\u001b[39m\u001b[38;5;132;01m{\u001b[39;00mround_num\u001b[38;5;132;01m}\u001b[39;00m\u001b[38;5;124m_x_val.npy\u001b[39m\u001b[38;5;124m'\u001b[39m, x_val)\n\u001b[1;32m     24\u001b[0m     np\u001b[38;5;241m.\u001b[39msave(\u001b[38;5;124mf\u001b[39m\u001b[38;5;124m'\u001b[39m\u001b[38;5;124m./saved_datasets/client_\u001b[39m\u001b[38;5;132;01m{\u001b[39;00mclient_id\u001b[38;5;132;01m}\u001b[39;00m\u001b[38;5;124m_round_\u001b[39m\u001b[38;5;132;01m{\u001b[39;00mround_num\u001b[38;5;132;01m}\u001b[39;00m\u001b[38;5;124m_y_val.npy\u001b[39m\u001b[38;5;124m'\u001b[39m, y_val)\n",
      "File \u001b[0;32m~/miniforge3/lib/python3.10/site-packages/numpy/lib/npyio.py:546\u001b[0m, in \u001b[0;36msave\u001b[0;34m(file, arr, allow_pickle, fix_imports)\u001b[0m\n\u001b[1;32m    544\u001b[0m \u001b[38;5;28;01mwith\u001b[39;00m file_ctx \u001b[38;5;28;01mas\u001b[39;00m fid:\n\u001b[1;32m    545\u001b[0m     arr \u001b[38;5;241m=\u001b[39m np\u001b[38;5;241m.\u001b[39masanyarray(arr)\n\u001b[0;32m--> 546\u001b[0m     \u001b[38;5;28;43mformat\u001b[39;49m\u001b[38;5;241;43m.\u001b[39;49m\u001b[43mwrite_array\u001b[49m\u001b[43m(\u001b[49m\u001b[43mfid\u001b[49m\u001b[43m,\u001b[49m\u001b[43m \u001b[49m\u001b[43marr\u001b[49m\u001b[43m,\u001b[49m\u001b[43m \u001b[49m\u001b[43mallow_pickle\u001b[49m\u001b[38;5;241;43m=\u001b[39;49m\u001b[43mallow_pickle\u001b[49m\u001b[43m,\u001b[49m\n\u001b[1;32m    547\u001b[0m \u001b[43m                       \u001b[49m\u001b[43mpickle_kwargs\u001b[49m\u001b[38;5;241;43m=\u001b[39;49m\u001b[38;5;28;43mdict\u001b[39;49m\u001b[43m(\u001b[49m\u001b[43mfix_imports\u001b[49m\u001b[38;5;241;43m=\u001b[39;49m\u001b[43mfix_imports\u001b[49m\u001b[43m)\u001b[49m\u001b[43m)\u001b[49m\n",
      "File \u001b[0;32m~/miniforge3/lib/python3.10/site-packages/numpy/lib/format.py:730\u001b[0m, in \u001b[0;36mwrite_array\u001b[0;34m(fp, array, version, allow_pickle, pickle_kwargs)\u001b[0m\n\u001b[1;32m    728\u001b[0m \u001b[38;5;28;01melse\u001b[39;00m:\n\u001b[1;32m    729\u001b[0m     \u001b[38;5;28;01mif\u001b[39;00m isfileobj(fp):\n\u001b[0;32m--> 730\u001b[0m         \u001b[43marray\u001b[49m\u001b[38;5;241;43m.\u001b[39;49m\u001b[43mtofile\u001b[49m\u001b[43m(\u001b[49m\u001b[43mfp\u001b[49m\u001b[43m)\u001b[49m\n\u001b[1;32m    731\u001b[0m     \u001b[38;5;28;01melse\u001b[39;00m:\n\u001b[1;32m    732\u001b[0m         \u001b[38;5;28;01mfor\u001b[39;00m chunk \u001b[38;5;129;01min\u001b[39;00m numpy\u001b[38;5;241m.\u001b[39mnditer(\n\u001b[1;32m    733\u001b[0m                 array, flags\u001b[38;5;241m=\u001b[39m[\u001b[38;5;124m'\u001b[39m\u001b[38;5;124mexternal_loop\u001b[39m\u001b[38;5;124m'\u001b[39m, \u001b[38;5;124m'\u001b[39m\u001b[38;5;124mbuffered\u001b[39m\u001b[38;5;124m'\u001b[39m, \u001b[38;5;124m'\u001b[39m\u001b[38;5;124mzerosize_ok\u001b[39m\u001b[38;5;124m'\u001b[39m],\n\u001b[1;32m    734\u001b[0m                 buffersize\u001b[38;5;241m=\u001b[39mbuffersize, order\u001b[38;5;241m=\u001b[39m\u001b[38;5;124m'\u001b[39m\u001b[38;5;124mC\u001b[39m\u001b[38;5;124m'\u001b[39m):\n",
      "\u001b[0;31mOSError\u001b[0m: 20971520 requested and 0 written"
     ]
    }
   ],
   "source": [
    "# Example usage: Run the experiment 5 times with 20 rounds each and save results as JSON\n",
    "num_experiments = 1\n",
    "num_rounds = 40\n",
    "experiment_results = run_multiple_experiments(num_experiments, num_rounds, client_data, global_model, \n",
    "                                              num_clients=5, neighbors_dict=neighbors_dict, weight_strategy='equal',\n",
    "                                              file_format='json', filename='experiment_results')\n"
   ]
  },
  {
   "cell_type": "code",
   "execution_count": null,
   "id": "60597e81",
   "metadata": {},
   "outputs": [],
   "source": []
  },
  {
   "cell_type": "code",
   "execution_count": null,
   "id": "eb07dca4",
   "metadata": {},
   "outputs": [],
   "source": [
    "# Example usage: Run the experiment 5 times with 20 rounds each and save results as JSON\n",
    "num_experiments = 1\n",
    "num_rounds = 40\n",
    "experiment_results_data_size = run_multiple_experiments(num_experiments, num_rounds, client_data, global_model, \n",
    "                                              num_clients=5, neighbors_dict=neighbors_dict, weight_strategy='data_size',\n",
    "                                              file_format='json', filename='experiment_results_data_size')\n"
   ]
  },
  {
   "cell_type": "code",
   "execution_count": null,
   "id": "d74d1b50",
   "metadata": {},
   "outputs": [],
   "source": []
  },
  {
   "cell_type": "code",
   "execution_count": null,
   "id": "ce1e5a32",
   "metadata": {},
   "outputs": [],
   "source": [
    "# Example usage: Run the experiment 5 times with 20 rounds each and save results as JSON\n",
    "num_experiments = 5\n",
    "num_rounds = 20\n",
    "experiment_results_performance = run_multiple_experiments(num_experiments, num_rounds, client_data, global_model, \n",
    "                                              num_clients=5, neighbors_dict=neighbors_dict, weight_strategy='performance',\n",
    "                                              file_format='json', filename='experiment_results_performance')\n"
   ]
  },
  {
   "cell_type": "code",
   "execution_count": null,
   "id": "7d294c27",
   "metadata": {},
   "outputs": [],
   "source": []
  },
  {
   "cell_type": "code",
   "execution_count": null,
   "id": "e12dd8c8",
   "metadata": {},
   "outputs": [],
   "source": [
    "import json\n",
    "import numpy as np\n",
    "import matplotlib.pyplot as plt\n",
    "from tqdm import tqdm\n",
    "\n",
    "import json\n",
    "\n",
    "def correct_json_format(input_file, output_file):\n",
    "    \"\"\"\n",
    "    Reformat JSON file by treating each JSON object as a separate entry\n",
    "    in an array, then saving it as a valid JSON array.\n",
    "\n",
    "    Args:\n",
    "        input_file (str): Path to the original JSON file with individual JSON objects.\n",
    "        output_file (str): Path to save the corrected JSON file.\n",
    "    \"\"\"\n",
    "    experiments = []\n",
    "    with open(input_file, 'r') as file:\n",
    "        content = file.read()\n",
    "        items = content.split(\"}\\n{\")  # Split where JSON objects might be separated incorrectly\n",
    "\n",
    "        # Reformat each block\n",
    "        for idx, item in enumerate(items):\n",
    "            # Add missing braces at the beginning or end\n",
    "            if idx == 0:\n",
    "                item = item + \"}\"\n",
    "            elif idx == len(items) - 1:\n",
    "                item = \"{\" + item\n",
    "            else:\n",
    "                item = \"{\" + item + \"}\"\n",
    "                \n",
    "            # Attempt to parse and add to list\n",
    "            try:\n",
    "                experiments.append(json.loads(item))\n",
    "            except json.JSONDecodeError:\n",
    "                print(f\"Error parsing JSON block: {item}\")\n",
    "\n",
    "    # Save as a valid JSON array\n",
    "    with open(output_file, 'w') as outfile:\n",
    "        json.dump(experiments, outfile, indent=4)\n",
    "    print(f\"Corrected JSON format saved to {output_file}\")\n",
    "\n",
    "def load_experiment_results(filename):\n",
    "    \"\"\"Load experiment results from a JSON file.\"\"\"\n",
    "    with open(filename, 'r') as file:\n",
    "        data = json.load(file)\n",
    "    return data\n",
    "\n",
    "def plot_model_divergence(data_equal, data_data_size):\n",
    "    \"\"\"\n",
    "    Plot model divergence over rounds for different weighting strategies\n",
    "    with multiple experiments in each dataset.\n",
    "    \n",
    "    Args:\n",
    "        data_equal (list): Results for the 'equal' weighting strategy.\n",
    "        data_data_size (list): Results for the 'data_size' weighting strategy.\n",
    "    \"\"\"\n",
    "    num_rounds = len(data_equal[0][\"divergence\"])  # Number of rounds in each experiment\n",
    "\n",
    "    # Initialize lists to store averaged divergence across experiments for each round\n",
    "    avg_divergence_equal = []\n",
    "    avg_divergence_data_size = []\n",
    "    \n",
    "    # Calculate average divergence per round for each weighting strategy\n",
    "    for round_num in range(num_rounds):\n",
    "        # Collect divergence for each experiment in the current round\n",
    "        round_divergence_equal = [\n",
    "            np.mean(exp[\"divergence\"][round_num]) for exp in data_equal if \"divergence\" in exp\n",
    "        ]\n",
    "        round_divergence_data_size = [\n",
    "            np.mean(exp[\"divergence\"][round_num]) for exp in data_data_size if \"divergence\" in exp\n",
    "        ]\n",
    "        \n",
    "        # Average across all experiments for the current round\n",
    "        avg_divergence_equal.append(np.mean(round_divergence_equal))\n",
    "        avg_divergence_data_size.append(np.mean(round_divergence_data_size))\n",
    "    \n",
    "    # Plotting\n",
    "    rounds = np.arange(1, num_rounds + 1)\n",
    "    plt.figure(figsize=(10, 6))\n",
    "    plt.plot(rounds, avg_divergence_equal, label='Equal Weighting', marker='o')\n",
    "    plt.plot(rounds, avg_divergence_data_size, label='Data-Size Weighting', marker='x')\n",
    "    plt.xlabel(\"Federated Learning Round\")\n",
    "    plt.ylabel(\"Average Model Divergence\")\n",
    "    plt.title(\"Comparison of Model Divergence with Different Weighting Strategies\")\n",
    "    plt.legend()\n",
    "    plt.grid(True)\n",
    "    plt.show()\n",
    "\n",
    "# Specify file paths\n",
    "input_file_equal = 'experiment_results.json'\n",
    "output_file_equal_corrected = 'experiment_results_corrected.json'\n",
    "\n",
    "input_file_data_size = 'experiment_results_data_size.json'\n",
    "output_file_data_size_corrected = 'experiment_results_data_size_corrected.json'\n",
    "\n",
    "# Run the correction function on both files\n",
    "correct_json_format(input_file_equal, output_file_equal_corrected)\n",
    "correct_json_format(input_file_data_size, output_file_data_size_corrected)\n",
    "\n",
    "\n",
    "# Load data from JSON files\n",
    "data_equal = load_experiment_results(output_file_equal_corrected)\n",
    "data_data_size = load_experiment_results(output_file_data_size_corrected)\n",
    "\n",
    "# Plot model divergence\n",
    "plot_model_divergence(data_equal, data_data_size)\n"
   ]
  },
  {
   "cell_type": "code",
   "execution_count": null,
   "id": "441dd803",
   "metadata": {},
   "outputs": [],
   "source": []
  },
  {
   "cell_type": "code",
   "execution_count": null,
   "id": "04bcef7d",
   "metadata": {},
   "outputs": [],
   "source": []
  },
  {
   "cell_type": "code",
   "execution_count": null,
   "id": "c07225c9",
   "metadata": {},
   "outputs": [],
   "source": []
  },
  {
   "cell_type": "code",
   "execution_count": null,
   "id": "0549d52c",
   "metadata": {},
   "outputs": [],
   "source": []
  },
  {
   "cell_type": "code",
   "execution_count": null,
   "id": "256ed5ad",
   "metadata": {},
   "outputs": [],
   "source": []
  },
  {
   "cell_type": "code",
   "execution_count": null,
   "id": "fb632952",
   "metadata": {},
   "outputs": [],
   "source": []
  },
  {
   "cell_type": "code",
   "execution_count": null,
   "id": "c1860dff",
   "metadata": {},
   "outputs": [],
   "source": [
    "import json\n",
    "import os\n",
    "import pandas as pd\n",
    "import matplotlib.pyplot as plt\n",
    "import seaborn as sns\n",
    "\n",
    "# Step 1: Split JSON blocks and save each as a separate file\n",
    "def split_json_file(input_file, output_dir):\n",
    "    with open(input_file, 'r') as file:\n",
    "        data = file.read()\n",
    "    \n",
    "    json_blocks = data.split('\\n][\\n')  # Splits at the start of each new JSON array block\n",
    "\n",
    "    # Save each block as a separate JSON file in the output directory\n",
    "    for i, block in enumerate(json_blocks):\n",
    "        block = block[1:]\n",
    "        output_path = os.path.join(output_dir, f'experiment_{i+1}.json')\n",
    "        with open(output_path, 'w') as output_file:\n",
    "            output_file.write(block)\n",
    "            \n",
    "\n",
    "\n",
    "# Step 2: Load JSON files into a DataFrame\n",
    "def load_json_to_dataframe(directory):\n",
    "    json_files = [f for f in os.listdir(directory) if f.endswith('.json')]\n",
    "    df_list = []\n",
    "    \n",
    "    for file in json_files:\n",
    "        file_path = os.path.join(directory, file)\n",
    "        with open(file_path, 'r') as f:\n",
    "            data = json.load(f)\n",
    "        \n",
    "        # Flatten the data and append to list\n",
    "\n",
    "\n",
    "        flattened_data = {\n",
    "            \"experiment\": data[\"experiment\"],\n",
    "            \"train_acc\": data[\"train_acc\"],\n",
    "            \"val_acc\": data[\"val_acc\"],\n",
    "            \"divergence\": data[\"divergence\"],\n",
    "            \"client_communication\": data[\"client_communication\"]\n",
    "        }\n",
    "        df_list.append(flattened_data)\n",
    "    \n",
    "    # Convert list to DataFrame\n",
    "    df = pd.DataFrame(df_list)\n",
    "    return df\n",
    "\n",
    "\n",
    "    "
   ]
  },
  {
   "cell_type": "code",
   "execution_count": null,
   "id": "52d832ec",
   "metadata": {},
   "outputs": [],
   "source": [
    "# Step 3: Expand `train_acc`, `val_acc`, and `divergence` columns\n",
    "def expand_dataframe(df):\n",
    "    # Lists to store expanded rows\n",
    "    expanded_rows = []\n",
    "\n",
    "    # Loop over each experiment\n",
    "    for _, row in df.iterrows():\n",
    "        experiment_no = row['experiment']\n",
    "        \n",
    "        # Get the number of rounds\n",
    "        num_rounds = len(row['train_acc'])\n",
    "        \n",
    "        # Expand each round's data\n",
    "        for round_num in range(num_rounds):\n",
    "            expanded_rows.append({\n",
    "                \"experiment\": experiment_no,\n",
    "                \"round\": round_num + 1,  # Start round numbering from 1\n",
    "                \"train_acc\": row['train_acc'][round_num],\n",
    "                \"val_acc\": row['val_acc'][round_num],\n",
    "                \"divergence\": row['divergence'][round_num]\n",
    "            })\n",
    "    \n",
    "    # Create an expanded DataFrame\n",
    "    expanded_df = pd.DataFrame(expanded_rows)\n",
    "    return expanded_df\n",
    "\n",
    "# Step 4: Plot the model divergence using the expanded DataFrame\n",
    "def plot_model_divergence(expanded_df):\n",
    "    # Flatten divergence for each round and experiment\n",
    "    divergence_data = expanded_df.explode('divergence')\n",
    "    \n",
    "    # Convert `divergence` column to float for plotting\n",
    "    divergence_data['divergence'] = divergence_data['divergence'].astype(float)\n",
    "    divergence_data['round'] = divergence_data['round'].astype(int)\n",
    "    \n",
    "    # Plotting the divergence using Seaborn\n",
    "    plt.figure(figsize=(12, 6))\n",
    "    sns.lineplot(data=divergence_data, x='round', y='divergence', marker='o')\n",
    "    plt.xlabel('Round')\n",
    "    plt.ylabel('Divergence')\n",
    "    plt.title('Model Divergence Over Rounds for Each Experiment')\n",
    "    plt.grid(True)\n",
    "    plt.legend(title='Experiment')\n",
    "    plt.show()\n",
    "\n",
    "# Step 4: Plot train and validation accuracy over rounds\n",
    "def plot_accuracy(expanded_df):\n",
    "    # Explode `train_acc` and `val_acc` so each round has a separate entry\n",
    "    train_data = expanded_df.explode('train_acc')\n",
    "    val_data = expanded_df.explode('val_acc')\n",
    "    \n",
    "    # Convert `train_acc` and `val_acc` to float for plotting\n",
    "    train_data['train_acc'] = train_data['train_acc'].astype(float)\n",
    "    val_data['val_acc'] = val_data['val_acc'].astype(float)\n",
    "    train_data['round'] = train_data['round'].astype(int)\n",
    "    val_data['round'] = val_data['round'].astype(int)\n",
    "\n",
    "    # Plotting train accuracy\n",
    "    plt.figure(figsize=(12, 6))\n",
    "    sns.lineplot(data=train_data, x='round', y='train_acc', hue='experiment', marker='o')\n",
    "    plt.xlabel('Round')\n",
    "    plt.ylabel('Train Accuracy')\n",
    "    plt.title('Training Accuracy Over Rounds for Each Experiment')\n",
    "    plt.grid(True)\n",
    "    plt.legend(title='Experiment')\n",
    "    plt.show()\n",
    "\n",
    "    # Plotting validation accuracy\n",
    "    plt.figure(figsize=(12, 6))\n",
    "    sns.lineplot(data=val_data, x='round', y='val_acc', hue='experiment', marker='o')\n",
    "    plt.xlabel('Round')\n",
    "    plt.ylabel('Validation Accuracy')\n",
    "    plt.title('Validation Accuracy Over Rounds for Each Experiment')\n",
    "    plt.grid(True)\n",
    "    plt.legend(title='Experiment')\n",
    "    plt.show()"
   ]
  },
  {
   "cell_type": "code",
   "execution_count": null,
   "id": "89015736",
   "metadata": {},
   "outputs": [],
   "source": [
    "import pandas as pd\n",
    "import seaborn as sns\n",
    "import matplotlib.pyplot as plt\n",
    "\n",
    "# Configure plotting style for publication\n",
    "sns.set_context(\"talk\", font_scale=1.2)  # Larger font scale\n",
    "sns.set_style(\"whitegrid\")  # Grid style suitable for scientific plots\n",
    "palette = sns.color_palette(\"colorblind\")  # Colorblind-friendly palette\n",
    "\n",
    "# Step 3: Expand `train_acc`, `val_acc`, and `divergence` columns\n",
    "def expand_dataframe(df):\n",
    "    expanded_rows = []\n",
    "    for _, row in df.iterrows():\n",
    "        experiment_no = row['experiment']\n",
    "        num_rounds = len(row['train_acc'])\n",
    "        for round_num in range(num_rounds):\n",
    "            expanded_rows.append({\n",
    "                \"experiment\": experiment_no,\n",
    "                \"round\": round_num + 1,\n",
    "                \"train_acc\": row['train_acc'][round_num],\n",
    "                \"val_acc\": row['val_acc'][round_num],\n",
    "                \"divergence\": row['divergence'][round_num]\n",
    "            })\n",
    "    expanded_df = pd.DataFrame(expanded_rows)\n",
    "    return expanded_df\n",
    "\n",
    "# Step 4a: Plot model divergence using expanded DataFrame\n",
    "def plot_model_divergence(expanded_df):\n",
    "    divergence_data = expanded_df.explode('divergence')\n",
    "    divergence_data['divergence'] = divergence_data['divergence'].astype(float)\n",
    "    divergence_data['round'] = divergence_data['round'].astype(int)\n",
    "\n",
    "    plt.figure(figsize=(10, 6), dpi=150)\n",
    "    sns.lineplot(data=divergence_data, x='round', y='divergence', #hue='experiment', \n",
    "                 marker='o', palette=palette, linewidth=2)\n",
    "    plt.xlabel('Round', fontsize=18)\n",
    "    plt.ylabel('Model Divergence', fontsize=18)\n",
    "    # plt.title('Model Divergence Over Rounds for Each Experiment', fontsize=16, weight='bold')\n",
    "    #plt.legend(title='Experiment', loc='upper right', fontsize=10, title_fontsize='13')\n",
    "    plt.grid(True, linestyle='--', linewidth=0.5)\n",
    "    plt.tight_layout()\n",
    "    \n",
    "    plt.savefig('model_divergence.pdf', dpi=300, bbox_inches='tight')\n",
    "    \n",
    "    plt.show()\n",
    "\n",
    "# Step 4b: Plot training and validation accuracy over rounds\n",
    "def plot_accuracy(expanded_df):\n",
    "    train_data = expanded_df.explode('train_acc')\n",
    "    val_data = expanded_df.explode('val_acc')\n",
    "    train_data['train_acc'] = train_data['train_acc'].astype(float)\n",
    "    val_data['val_acc'] = val_data['val_acc'].astype(float)\n",
    "    train_data['round'] = train_data['round'].astype(int)\n",
    "    val_data['round'] = val_data['round'].astype(int)\n",
    "\n",
    "    # Plot training accuracy\n",
    "    plt.figure(figsize=(10, 6), dpi=150)\n",
    "    sns.lineplot(data=train_data, x='round', y='train_acc', #hue='experiment', \n",
    "                 marker='o', palette=palette, linewidth=2)\n",
    "    plt.xlabel('Round', fontsize=14)\n",
    "    plt.ylabel('Training Accuracy (%)', fontsize=18)\n",
    "    # plt.title('Training Accuracy Over Rounds for Each Experiment', fontsize=16, weight='bold')\n",
    "    #plt.legend(title='Experiment', loc='lower right', fontsize=10, title_fontsize='13')\n",
    "    plt.grid(True, linestyle='--', linewidth=0.5)\n",
    "    plt.tight_layout()\n",
    "    \n",
    "    plt.savefig('train_accuracy.pdf', dpi=300, bbox_inches='tight')\n",
    "    \n",
    "    plt.show()\n",
    "\n",
    "    # Plot validation accuracy\n",
    "    plt.figure(figsize=(10, 6), dpi=150)\n",
    "    sns.lineplot(data=val_data, x='round', y='val_acc', #hue='experiment', \n",
    "                 marker='o', palette=palette, linewidth=2)\n",
    "    plt.xlabel('Round', fontsize=14)\n",
    "    plt.ylabel('Validation Accuracy (%)', fontsize=18)\n",
    "    # plt.title('Validation Accuracy Over Rounds for Each Experiment', fontsize=16, weight='bold')\n",
    "    #plt.legend(title='Experiment', loc='lower right', fontsize=10, title_fontsize='13')\n",
    "    plt.grid(True, linestyle='--', linewidth=0.5)\n",
    "    plt.tight_layout()\n",
    "    \n",
    "    plt.savefig('val_accuracy.pdf', dpi=300, bbox_inches='tight')\n",
    "    \n",
    "    plt.show()\n"
   ]
  },
  {
   "cell_type": "code",
   "execution_count": null,
   "id": "5c7bce93",
   "metadata": {},
   "outputs": [],
   "source": [
    "# Define the input file and the output directory\n",
    "input_file = 'experiment_results.json'  # Change this to your specific file if needed\n",
    "output_dir = './tmp'\n",
    "os.makedirs(output_dir, exist_ok=True)\n",
    "\n",
    "# Execute splitting\n",
    "split_json_file(input_file, output_dir)\n",
    "\n",
    "# Load all JSON data into a single DataFrame\n",
    "df = load_json_to_dataframe(output_dir)\n",
    "\n",
    "# Expand the DataFrame\n",
    "expanded_df = expand_dataframe(df)\n",
    "\n",
    "# Plot the model divergence\n",
    "plot_model_divergence(expanded_df)\n",
    "\n",
    "# Plot the accuracy\n",
    "plot_accuracy(expanded_df)"
   ]
  },
  {
   "cell_type": "code",
   "execution_count": null,
   "id": "49170719",
   "metadata": {},
   "outputs": [],
   "source": []
  },
  {
   "cell_type": "code",
   "execution_count": null,
   "id": "523ff2f8",
   "metadata": {},
   "outputs": [],
   "source": [
    "# Define the input file and the output directory\n",
    "input_file = 'experiment_results_data_size.json'  # Change this to your specific file if needed\n",
    "output_dir = './tmp'\n",
    "os.makedirs(output_dir, exist_ok=True)\n",
    "\n",
    "# Execute splitting\n",
    "# split_json_file(input_file, output_dir)\n",
    "\n",
    "# Load all JSON data into a single DataFrame\n",
    "df = load_json_to_dataframe(output_dir)\n",
    "\n",
    "# Expand the DataFrame\n",
    "expanded_df = expand_dataframe(df)\n",
    "\n",
    "# Plot the model divergence\n",
    "plot_model_divergence(expanded_df)\n",
    "\n",
    "# Plot the accuracy\n",
    "plot_accuracy(expanded_df)"
   ]
  },
  {
   "cell_type": "code",
   "execution_count": null,
   "id": "9f2d54e3",
   "metadata": {},
   "outputs": [],
   "source": [
    "\n"
   ]
  },
  {
   "cell_type": "code",
   "execution_count": null,
   "id": "0a886ddf",
   "metadata": {},
   "outputs": [],
   "source": [
    "import os\n",
    "import numpy as np\n",
    "import pandas as pd\n",
    "import tensorflow as tf\n",
    "from sklearn.metrics import accuracy_score, precision_score, recall_score, f1_score, jaccard_score\n",
    "\n",
    "# Define directories for saved models and datasets\n",
    "model_dir = \"./saved_models\"\n",
    "dataset_dir = \"./saved_datasets\"\n",
    "\n",
    "# Define list to hold evaluation results\n",
    "results = []\n",
    "\n",
    "# Iterate over each client directory, skipping non-model directories\n",
    "for client_folder in os.listdir(model_dir):\n",
    "    client_folder_path = os.path.join(model_dir, client_folder)\n",
    "    # Skip non-directory files like .DS_Store\n",
    "    if not os.path.isdir(client_folder_path):\n",
    "        continue\n",
    "\n",
    "    # Get the client ID and round number from the folder name\n",
    "    client_id = client_folder.split('_')[1]\n",
    "    round_num = client_folder.split('_')[-1]\n",
    "    \n",
    "    # Path to the model weights\n",
    "    model_path = os.path.join(client_folder_path, \"model_weights.keras\")\n",
    "    # Check if the model file exists\n",
    "    if not os.path.exists(model_path):\n",
    "        print(f\"Model file not found for {client_folder}, skipping...\")\n",
    "        continue\n",
    "\n",
    "    # Load the model\n",
    "    model = tf.keras.models.load_model(model_path)\n",
    "    \n",
    "    # Load validation data\n",
    "    x_val_path = os.path.join(dataset_dir, f\"client_{client_id}_round_{round_num}_x_val.npy\")\n",
    "    y_val_path = os.path.join(dataset_dir, f\"client_{client_id}_round_{round_num}_y_val.npy\")\n",
    "    \n",
    "    # Check if validation data exists\n",
    "    if not os.path.exists(x_val_path) or not os.path.exists(y_val_path):\n",
    "        print(f\"Validation data not found for {client_folder}, skipping...\")\n",
    "        continue\n",
    "\n",
    "    X_val = np.load(x_val_path)\n",
    "    y_val = np.load(y_val_path)\n",
    "    \n",
    "    # Ensure y_val is in one-hot format or convert it if necessary\n",
    "    if y_val.ndim > 2 and y_val.shape[-1] > 1:\n",
    "        y_true_classes = np.argmax(y_val, axis=-1).flatten()  # Flatten for pixel-wise comparison\n",
    "    else:\n",
    "        y_true_classes = y_val.flatten()  # Already in class format\n",
    "\n",
    "    # Predict using the model\n",
    "    y_pred = model.predict(X_val, verbose=0)\n",
    "    # Make predictions on the selected input image\n",
    "    y_pred = np.argmax(y_pred, axis=-1)[0]  # Convert probabilities to class labels\n",
    "\n",
    "    y_pred_classes = np.argmax(y_pred, axis=-1).flatten()  # Flatten to get class predictions per pixel\n",
    "    \n",
    "    # Ensure y_true_classes and y_pred_classes have the same length\n",
    "    if y_true_classes.shape[0] != y_pred_classes.shape[0]:\n",
    "        min_length = min(y_true_classes.shape[0], y_pred_classes.shape[0])\n",
    "        y_true_classes = y_true_classes[:min_length]\n",
    "        y_pred_classes = y_pred_classes[:min_length]\n",
    "    \n",
    "    # Calculate pixel-wise accuracy\n",
    "    pixel_accuracy = accuracy_score(y_true_classes, y_pred_classes)\n",
    "    \n",
    "    # Calculate IoU for each class and then average, weighted by support\n",
    "    iou_score = jaccard_score(y_true_classes, y_pred_classes, average='weighted')\n",
    "    \n",
    "    # Calculate additional metrics if needed (weighted precision, recall, F1)\n",
    "    precision = precision_score(y_true_classes, y_pred_classes, average='weighted')\n",
    "    recall = recall_score(y_true_classes, y_pred_classes, average='weighted')\n",
    "    f1 = f1_score(y_true_classes, y_pred_classes, average='weighted')\n",
    "    \n",
    "    # Append results to the list\n",
    "    results.append({\n",
    "        \"Client\": client_id,\n",
    "        \"Round\": round_num,\n",
    "        \"Pixel Accuracy\": pixel_accuracy,\n",
    "        \"Mean IoU\": iou_score,\n",
    "        \"Precision\": precision,\n",
    "        \"Recall\": recall,\n",
    "        \"F1 Score\": f1\n",
    "    })\n",
    "\n",
    "# Convert results to DataFrame for a clear table format\n",
    "results_df = pd.DataFrame(results)\n",
    "\n",
    "# Display the results table\n",
    "results_df.sort_values(by=[\"Client\", \"Round\"], inplace=True)\n",
    "print(results_df)\n"
   ]
  },
  {
   "cell_type": "code",
   "execution_count": null,
   "id": "b0ea25ba",
   "metadata": {},
   "outputs": [],
   "source": [
    "import os\n",
    "import numpy as np\n",
    "import pandas as pd\n",
    "import tensorflow as tf\n",
    "from sklearn.metrics import accuracy_score, precision_score, recall_score, f1_score, jaccard_score\n",
    "\n",
    "# Define directories for saved models and datasets\n",
    "model_dir = \"./saved_models\"\n",
    "dataset_dir = \"./saved_datasets\"\n",
    "\n",
    "# Define class names for better readability\n",
    "CLASSES = [\"Noise\", \"LTE\", \"NR\", \"Radar\"]\n",
    "\n",
    "# Define list to hold evaluation results\n",
    "results = []\n",
    "\n",
    "# Iterate over each client directory, skipping non-model directories\n",
    "for client_folder in os.listdir(model_dir):\n",
    "    client_folder_path = os.path.join(model_dir, client_folder)\n",
    "    if not os.path.isdir(client_folder_path):\n",
    "        continue\n",
    "\n",
    "    # Get the client ID and round number from the folder name\n",
    "    client_id = client_folder.split('_')[1]\n",
    "    round_num = client_folder.split('_')[-1]\n",
    "    \n",
    "    # Path to the model weights\n",
    "    model_path = os.path.join(client_folder_path, \"model_weights.keras\")\n",
    "    if not os.path.exists(model_path):\n",
    "        print(f\"Model file not found for {client_folder}, skipping...\")\n",
    "        continue\n",
    "\n",
    "    # Load the model\n",
    "    model = tf.keras.models.load_model(model_path)\n",
    "    \n",
    "    # Load validation data\n",
    "    x_val_path = os.path.join(dataset_dir, f\"client_{client_id}_round_{round_num}_x_val.npy\")\n",
    "    y_val_path = os.path.join(dataset_dir, f\"client_{client_id}_round_{round_num}_y_val.npy\")\n",
    "    \n",
    "    if not os.path.exists(x_val_path) or not os.path.exists(y_val_path):\n",
    "        print(f\"Validation data not found for {client_folder}, skipping...\")\n",
    "        continue\n",
    "\n",
    "    X_val = np.load(x_val_path)\n",
    "    y_val = np.load(y_val_path)\n",
    "    \n",
    "    # Flatten the true labels for pixel-wise comparison\n",
    "    y_true_classes = np.argmax(y_val, axis=-1).flatten() if y_val.ndim > 2 and y_val.shape[-1] > 1 else y_val.flatten()\n",
    "\n",
    "    # Predict using the model\n",
    "    y_pred = model.predict(X_val, verbose=0)\n",
    "    y_pred_classes = np.argmax(y_pred, axis=-1).flatten()\n",
    "\n",
    "    # Ensure matching lengths for metrics calculation\n",
    "    min_length = min(y_true_classes.shape[0], y_pred_classes.shape[0])\n",
    "    y_true_classes = y_true_classes[:min_length]\n",
    "    y_pred_classes = y_pred_classes[:min_length]\n",
    "\n",
    "    # Calculate per-class metrics\n",
    "    iou_per_class = jaccard_score(y_true_classes, y_pred_classes, average=None, labels=range(len(CLASSES)))\n",
    "    precision_per_class = precision_score(y_true_classes, y_pred_classes, average=None, labels=range(len(CLASSES)))\n",
    "    recall_per_class = recall_score(y_true_classes, y_pred_classes, average=None, labels=range(len(CLASSES)))\n",
    "    f1_per_class = f1_score(y_true_classes, y_pred_classes, average=None, labels=range(len(CLASSES)))\n",
    "\n",
    "    # Store results for each class\n",
    "    for class_idx, class_name in enumerate(CLASSES):\n",
    "        results.append({\n",
    "            \"Client\": client_id,\n",
    "            \"Round\": round_num,\n",
    "            \"Class\": class_name,\n",
    "            \"IoU\": iou_per_class[class_idx],\n",
    "            \"Precision\": precision_per_class[class_idx],\n",
    "            \"Recall\": recall_per_class[class_idx],\n",
    "            \"F1 Score\": f1_per_class[class_idx]\n",
    "        })\n",
    "\n",
    "# Convert results to DataFrame for a clear table format\n",
    "results_df = pd.DataFrame(results)\n",
    "\n",
    "# Display the results table, sorted by client and round\n",
    "results_df.sort_values(by=[\"Client\", \"Round\", \"Class\"], inplace=True)\n",
    "print(results_df)\n"
   ]
  },
  {
   "cell_type": "code",
   "execution_count": null,
   "id": "9a9c0565",
   "metadata": {},
   "outputs": [],
   "source": [
    "import os\n",
    "from sklearn.metrics import jaccard_score, accuracy_score, precision_score, recall_score\n",
    "from scipy.spatial.distance import directed_hausdorff\n",
    "from skimage.metrics import adapted_rand_error as dice_coefficient\n",
    "from skimage.measure import label, regionprops\n",
    "from medpy.metric.binary import dc, hd, assd, volume_correlation\n",
    "\n",
    "# Define a function to calculate the metrics for each class\n",
    "def calculate_segmentation_metrics(y_true, y_pred, classes):\n",
    "    metrics = {}\n",
    "\n",
    "    for class_idx, class_name in enumerate(classes):\n",
    "        y_true_class = (y_true == class_idx).astype(int)\n",
    "        y_pred_class = (y_pred == class_idx).astype(int)\n",
    "\n",
    "        # Dice coefficient\n",
    "        dice = dc(y_pred_class, y_true_class)\n",
    "        \n",
    "        # Jaccard index (IoU)\n",
    "        jaccard = jaccard_score(y_true_class.flatten(), y_pred_class.flatten())\n",
    "\n",
    "        # Sensitivity (Recall)\n",
    "        sensitivity = recall_score(y_true_class.flatten(), y_pred_class.flatten())\n",
    "\n",
    "        # Specificity\n",
    "        tn = np.sum((y_true_class == 0) & (y_pred_class == 0))\n",
    "        fp = np.sum((y_true_class == 0) & (y_pred_class == 1))\n",
    "        specificity = tn / (tn + fp) if (tn + fp) > 0 else 0\n",
    "\n",
    "        # Precision\n",
    "        precision = precision_score(y_true_class.flatten(), y_pred_class.flatten())\n",
    "\n",
    "        # Accuracy\n",
    "        accuracy = accuracy_score(y_true_class.flatten(), y_pred_class.flatten())\n",
    "\n",
    "        # Mean Surface Distance (Average Symmetric Surface Distance)\n",
    "        mean_surface_distance = assd(y_true_class, y_pred_class)\n",
    "\n",
    "        # Hausdorff Distance\n",
    "        hausdorff_distance = hd(y_true_class, y_pred_class)\n",
    "\n",
    "        # Volume Difference (difference in number of pixels)\n",
    "        true_volume = np.sum(y_true_class)\n",
    "        predicted_volume = np.sum(y_pred_class)\n",
    "        volume_difference = np.abs(true_volume - predicted_volume)\n",
    "\n",
    "        # Store all metrics for this class\n",
    "        metrics[class_name] = {\n",
    "            \"Dice\": dice,\n",
    "            \"Jaccard\": jaccard,\n",
    "            \"Sensitivity\": sensitivity,\n",
    "            \"Specificity\": specificity,\n",
    "            \"Precision\": precision,\n",
    "            \"Accuracy\": accuracy,\n",
    "            \"Mean Surface Distance\": mean_surface_distance,\n",
    "            \"Hausdorff Distance\": hausdorff_distance,\n",
    "            \"Volume Difference\": volume_difference,\n",
    "            \"True Volume\": true_volume,\n",
    "            \"Predicted Volume\": predicted_volume\n",
    "        }\n",
    "    \n",
    "    return metrics\n"
   ]
  },
  {
   "cell_type": "code",
   "execution_count": null,
   "id": "70c2f8b2",
   "metadata": {},
   "outputs": [],
   "source": [
    "# Get a random input image and the corresponding real output (label)\n",
    "input_idx = np.random.randint(X_val.shape[0])\n",
    "input_img = X_val[input_idx:input_idx+1]\n",
    "real_output = y_val[input_idx:input_idx+1]\n",
    "\n",
    "# Get the client ID and round number from the folder name\n",
    "client_id = np.random.randint(NUMBER_OF_CLIENTS)\n",
    "\n",
    "# Path to the model weights\n",
    "model_path = os.path.join(\"./saved_models/client_\" + str(client_id) + \"_round_38/\", \"model_weights.keras\")\n",
    "model = tf.keras.models.load_model(model_path)\n",
    "\n",
    "# Convert real_output to a NumPy array\n",
    "real_output = tf.make_ndarray(tf.make_tensor_proto(real_output))  # Convert EagerTensor to NumPy array\n",
    "\n",
    "# Make predictions on the selected input image\n",
    "y_pred = model.predict(input_img)\n",
    "y_pred_conv = np.argmax(y_pred, axis=-1)[0]  # Convert probabilities to class labels\n",
    "\n",
    "# Plot the input image\n",
    "fig = plt.figure()\n",
    "ax = fig.add_subplot(111)\n",
    "heatmap = plt.imshow(input_img.reshape(INPUT_SHAPE).astype(int))\n",
    "plt.ylabel('Time (ms)')\n",
    "plt.xlabel('Frequency (MHz)')\n",
    "ax.set_aspect(0.15)\n",
    "cax = fig.add_axes([ax.get_position().x1+0.02, ax.get_position().y0, 0.03, ax.get_position().height])\n",
    "plt.colorbar(heatmap, cax=cax)\n",
    "plt.show()\n",
    "\n",
    "# Plot the real output (ground truth)\n",
    "fig = plt.figure()\n",
    "ax = fig.add_subplot(111)\n",
    "heatmap = plt.imshow(real_output.reshape((256, 256)), cmap='viridis')  # Assuming a grayscale output\n",
    "plt.ylabel('Time (ms)')\n",
    "plt.xlabel('Frequency (MHz)')\n",
    "ax.set_aspect(0.15)\n",
    "cax = fig.add_axes([ax.get_position().x1+0.02, ax.get_position().y0, 0.03, ax.get_position().height])\n",
    "cbar = plt.colorbar(heatmap, cax=cax)\n",
    "cbar.ax.get_yaxis().set_ticks([])\n",
    "for j, lab in enumerate(CLASSES):\n",
    "    cbar.ax.text(3.0, (6.5 * j + 1) / 8.0, lab, ha='left', va='center')\n",
    "cbar.ax.get_yaxis().labelpad = 15\n",
    "plt.show()\n",
    "\n",
    "fig = plt.figure()\n",
    "ax = fig.add_subplot(111)\n",
    "heatmap = plt.imshow(y_pred_conv.reshape((256,256)), cmap=cmp)\n",
    "plt.ylabel('Time (ms)')\n",
    "plt.xlabel('Frequency (MHz)')\n",
    "ax.set_aspect(0.15)\n",
    "cax = fig.add_axes([ax.get_position().x1+0.02,ax.get_position().y0,0.03,ax.get_position().height])\n",
    "cbar = plt.colorbar(heatmap, cax=cax)\n",
    "cbar = plt.colorbar(heatmap, cax=cax)\n",
    "cbar.ax.get_yaxis().set_ticks([])\n",
    "for j, lab in enumerate(CLASSES):\n",
    "    cbar.ax.text(3.0, (6.5 * j + 1) / 8.0, lab, ha='left', va='center')\n",
    "cbar.ax.get_yaxis().labelpad = 15\n",
    "plt.show()\n",
    "\n",
    "\n",
    "metrics = calculate_segmentation_metrics(real_output.reshape((256, 256)), y_pred_conv.reshape((256,256)), CLASSES)\n",
    "\n",
    "# Display metrics\n",
    "for class_name, class_metrics in metrics.items():\n",
    "    print(f\"Metrics for {class_name}:\")\n",
    "    for metric_name, value in class_metrics.items():\n",
    "        print(f\"  {metric_name}: {value:.4f}\")\n",
    "    print(\"\\n\")\n"
   ]
  },
  {
   "cell_type": "code",
   "execution_count": null,
   "id": "4c548c44",
   "metadata": {},
   "outputs": [],
   "source": [
    "import os\n",
    "import numpy as np\n",
    "import pandas as pd\n",
    "import tensorflow as tf\n",
    "from sklearn.metrics import accuracy_score, precision_score, recall_score, f1_score, jaccard_score\n",
    "from medpy.metric.binary import dc, hd, assd\n",
    "\n",
    "# Define directories for saved models and datasets\n",
    "model_dir = \"./saved_models\"\n",
    "dataset_dir = \"./saved_datasets\"\n",
    "\n",
    "# Define class names for better readability\n",
    "CLASSES = [\"Noise\", \"LTE\", \"NR\", \"Radar\"]\n",
    "\n",
    "# Define a function to calculate metrics for each class\n",
    "def calculate_segmentation_metrics(y_true, y_pred, classes):\n",
    "    metrics = {class_name: {} for class_name in classes}\n",
    "\n",
    "    for class_idx, class_name in enumerate(classes):\n",
    "        y_true_class = (y_true == class_idx).astype(int)\n",
    "        y_pred_class = (y_pred == class_idx).astype(int)\n",
    "\n",
    "        # Dice coefficient\n",
    "        metrics[class_name][\"Dice\"] = dc(y_pred_class, y_true_class)\n",
    "\n",
    "        # Jaccard index (IoU)\n",
    "        metrics[class_name][\"IoU\"] = jaccard_score(y_true_class.flatten(), y_pred_class.flatten())\n",
    "\n",
    "        # Sensitivity (Recall)\n",
    "        metrics[class_name][\"Sensitivity\"] = recall_score(y_true_class.flatten(), y_pred_class.flatten())\n",
    "\n",
    "        # Specificity\n",
    "        tn = np.sum((y_true_class == 0) & (y_pred_class == 0))\n",
    "        fp = np.sum((y_true_class == 0) & (y_pred_class == 1))\n",
    "        metrics[class_name][\"Specificity\"] = tn / (tn + fp) if (tn + fp) > 0 else 0\n",
    "\n",
    "        # Precision\n",
    "        metrics[class_name][\"Precision\"] = precision_score(y_true_class.flatten(), y_pred_class.flatten())\n",
    "\n",
    "        # Accuracy\n",
    "        metrics[class_name][\"Accuracy\"] = accuracy_score(y_true_class.flatten(), y_pred_class.flatten())\n",
    "\n",
    "        # Mean Surface Distance\n",
    "        # metrics[class_name][\"Mean Surface Distance\"] = assd(y_true_class, y_pred_class)\n",
    "\n",
    "        # Hausdorff Distance\n",
    "        # metrics[class_name][\"Hausdorff Distance\"] = hd(y_true_class, y_pred_class)\n",
    "\n",
    "        # Volume Difference\n",
    "        true_volume = np.sum(y_true_class)\n",
    "        predicted_volume = np.sum(y_pred_class)\n",
    "        metrics[class_name][\"Volume Difference\"] = abs(true_volume - predicted_volume)\n",
    "        metrics[class_name][\"True Volume\"] = true_volume\n",
    "        metrics[class_name][\"Predicted Volume\"] = predicted_volume\n",
    "    \n",
    "    return metrics\n",
    "\n",
    "# Define list to hold all metrics for each class and each image\n",
    "all_results = []\n",
    "\n",
    "# Iterate over each client directory, skipping non-model directories\n",
    "for client_folder in tqdm(os.listdir(model_dir)):\n",
    "    client_folder_path = os.path.join(model_dir, client_folder)\n",
    "    if not os.path.isdir(client_folder_path):\n",
    "        continue\n",
    "\n",
    "    # Get the client ID and round number from the folder name\n",
    "    client_id = client_folder.split('_')[1]\n",
    "    round_num = client_folder.split('_')[-1]\n",
    "    \n",
    "    # Path to the model weights\n",
    "    model_path = os.path.join(client_folder_path, \"model_weights.keras\")\n",
    "    if not os.path.exists(model_path):\n",
    "        print(f\"Model file not found for {client_folder}, skipping...\")\n",
    "        continue\n",
    "\n",
    "    # Load the model\n",
    "    model = tf.keras.models.load_model(model_path)\n",
    "    \n",
    "    # Load validation data\n",
    "    x_val_path = os.path.join(dataset_dir, f\"client_{client_id}_round_{round_num}_x_val.npy\")\n",
    "    y_val_path = os.path.join(dataset_dir, f\"client_{client_id}_round_{round_num}_y_val.npy\")\n",
    "    \n",
    "    if not os.path.exists(x_val_path) or not os.path.exists(y_val_path):\n",
    "        print(f\"Validation data not found for {client_folder}, skipping...\")\n",
    "        continue\n",
    "\n",
    "    X_val = np.load(x_val_path)\n",
    "    y_val = np.load(y_val_path)\n",
    "\n",
    "    # Process each validation image individually\n",
    "    for img_idx in tqdm(range(X_val.shape[0])):\n",
    "        input_img = X_val[img_idx:img_idx + 1]\n",
    "        real_output = y_val[img_idx]\n",
    "        \n",
    "        # Predict using the model\n",
    "        y_pred = model.predict(input_img, verbose=0)\n",
    "        y_pred_class = np.argmax(y_pred, axis=-1)[0]\n",
    "\n",
    "        # Calculate per-class metrics for this image\n",
    "        metrics = calculate_segmentation_metrics(real_output, y_pred_class, CLASSES)\n",
    "\n",
    "        # Store results for each class\n",
    "        for class_name, class_metrics in metrics.items():\n",
    "            all_results.append({\n",
    "                \"Client\": client_id,\n",
    "                \"Round\": round_num,\n",
    "                \"Class\": class_name,\n",
    "                **class_metrics\n",
    "            })\n",
    "\n",
    "# Convert all_results to DataFrame\n",
    "all_results_df = pd.DataFrame(all_results)\n",
    "\n"
   ]
  },
  {
   "cell_type": "code",
   "execution_count": null,
   "id": "a2ebc211",
   "metadata": {},
   "outputs": [],
   "source": [
    "# Calculate the average metrics for each class across all images\n",
    "average_results_df = all_results_df.groupby([\"Class\",\"Client\",\"Round\"]).mean().reset_index()\n",
    "\n",
    "# Display the final table of average metrics\n",
    "print(average_results_df)\n",
    "\n",
    "# Generate LaTeX code if needed\n",
    "latex_code = average_results_df.to_latex(index=False, float_format=\"%.4f\", caption=\"Average Segmentation Metrics per Class\", label=\"tab:segmentation_metrics\")\n",
    "print(\"\\nLaTeX Table Code:\")\n",
    "print(latex_code)\n"
   ]
  },
  {
   "cell_type": "code",
   "execution_count": null,
   "id": "06ba9565",
   "metadata": {},
   "outputs": [],
   "source": []
  },
  {
   "cell_type": "code",
   "execution_count": null,
   "id": "325e0970",
   "metadata": {},
   "outputs": [],
   "source": [
    "all_results_df.info()"
   ]
  },
  {
   "cell_type": "code",
   "execution_count": null,
   "id": "5b6dc49e",
   "metadata": {},
   "outputs": [],
   "source": []
  }
 ],
 "metadata": {
  "kernelspec": {
   "display_name": "Python 3 (ipykernel)",
   "language": "python",
   "name": "python3"
  },
  "language_info": {
   "codemirror_mode": {
    "name": "ipython",
    "version": 3
   },
   "file_extension": ".py",
   "mimetype": "text/x-python",
   "name": "python",
   "nbconvert_exporter": "python",
   "pygments_lexer": "ipython3",
   "version": "3.10.11"
  }
 },
 "nbformat": 4,
 "nbformat_minor": 5
}
